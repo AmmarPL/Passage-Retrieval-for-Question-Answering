{
  "cells": [
    {
      "cell_type": "markdown",
      "metadata": {
        "id": "NZVDetBLN5OE"
      },
      "source": [
        "# Setup"
      ]
    },
    {
      "cell_type": "markdown",
      "metadata": {
        "id": "0iBwNBhUeBZY"
      },
      "source": [
        "## Install packages"
      ]
    },
    {
      "cell_type": "code",
      "execution_count": 282,
      "metadata": {
        "colab": {
          "base_uri": "https://localhost:8080/",
          "height": 1000
        },
        "id": "APzfPYuEPrCW",
        "outputId": "423e4dec-f1e3-40dd-ae75-750aa49222b0"
      },
      "outputs": [
        {
          "output_type": "stream",
          "name": "stdout",
          "text": [
            "Looking in indexes: https://pypi.org/simple, https://us-python.pkg.dev/colab-wheels/public/simple/\n",
            "Requirement already satisfied: sentence-transformers in /usr/local/lib/python3.7/dist-packages (2.2.2)\n",
            "Requirement already satisfied: rank_bm25 in /usr/local/lib/python3.7/dist-packages (0.2.2)\n",
            "Requirement already satisfied: faiss-gpu in /usr/local/lib/python3.7/dist-packages (1.7.2)\n",
            "Requirement already satisfied: datasets in /usr/local/lib/python3.7/dist-packages (1.7.0)\n",
            "Collecting datasets\n",
            "  Using cached datasets-2.6.1-py3-none-any.whl (441 kB)\n",
            "Requirement already satisfied: torchvision in /usr/local/lib/python3.7/dist-packages (from sentence-transformers) (0.13.1+cu113)\n",
            "Requirement already satisfied: transformers<5.0.0,>=4.6.0 in /usr/local/lib/python3.7/dist-packages (from sentence-transformers) (4.8.1)\n",
            "Requirement already satisfied: scipy in /usr/local/lib/python3.7/dist-packages (from sentence-transformers) (1.7.3)\n",
            "Requirement already satisfied: scikit-learn in /usr/local/lib/python3.7/dist-packages (from sentence-transformers) (1.0.2)\n",
            "Requirement already satisfied: tqdm in /usr/local/lib/python3.7/dist-packages (from sentence-transformers) (4.49.0)\n",
            "Requirement already satisfied: sentencepiece in /usr/local/lib/python3.7/dist-packages (from sentence-transformers) (0.1.95)\n",
            "Collecting huggingface-hub>=0.4.0\n",
            "  Using cached huggingface_hub-0.10.1-py3-none-any.whl (163 kB)\n",
            "Requirement already satisfied: torch>=1.6.0 in /usr/local/lib/python3.7/dist-packages (from sentence-transformers) (1.12.1+cu113)\n",
            "Requirement already satisfied: nltk in /usr/local/lib/python3.7/dist-packages (from sentence-transformers) (3.7)\n",
            "Requirement already satisfied: numpy in /usr/local/lib/python3.7/dist-packages (from sentence-transformers) (1.21.6)\n",
            "Requirement already satisfied: importlib-metadata in /usr/local/lib/python3.7/dist-packages (from huggingface-hub>=0.4.0->sentence-transformers) (4.13.0)\n",
            "Requirement already satisfied: pyyaml>=5.1 in /usr/local/lib/python3.7/dist-packages (from huggingface-hub>=0.4.0->sentence-transformers) (6.0)\n",
            "Requirement already satisfied: requests in /usr/local/lib/python3.7/dist-packages (from huggingface-hub>=0.4.0->sentence-transformers) (2.23.0)\n",
            "Requirement already satisfied: typing-extensions>=3.7.4.3 in /usr/local/lib/python3.7/dist-packages (from huggingface-hub>=0.4.0->sentence-transformers) (3.10.0.2)\n",
            "Requirement already satisfied: filelock in /usr/local/lib/python3.7/dist-packages (from huggingface-hub>=0.4.0->sentence-transformers) (3.8.0)\n",
            "Requirement already satisfied: packaging>=20.9 in /usr/local/lib/python3.7/dist-packages (from huggingface-hub>=0.4.0->sentence-transformers) (21.3)\n",
            "Requirement already satisfied: pyparsing!=3.0.5,>=2.0.2 in /usr/local/lib/python3.7/dist-packages (from packaging>=20.9->huggingface-hub>=0.4.0->sentence-transformers) (3.0.9)\n",
            "Requirement already satisfied: regex!=2019.12.17 in /usr/local/lib/python3.7/dist-packages (from transformers<5.0.0,>=4.6.0->sentence-transformers) (2022.6.2)\n",
            "Requirement already satisfied: sacremoses in /usr/local/lib/python3.7/dist-packages (from transformers<5.0.0,>=4.6.0->sentence-transformers) (0.0.53)\n",
            "Collecting transformers<5.0.0,>=4.6.0\n",
            "  Using cached transformers-4.24.0-py3-none-any.whl (5.5 MB)\n",
            "Collecting tokenizers!=0.11.3,<0.14,>=0.11.1\n",
            "  Using cached tokenizers-0.13.2-cp37-cp37m-manylinux_2_17_x86_64.manylinux2014_x86_64.whl (7.6 MB)\n",
            "Collecting tqdm\n",
            "  Downloading tqdm-4.64.1-py2.py3-none-any.whl (78 kB)\n",
            "\u001b[K     |████████████████████████████████| 78 kB 3.0 MB/s \n",
            "\u001b[?25hRequirement already satisfied: multiprocess in /usr/local/lib/python3.7/dist-packages (from datasets) (0.70.13)\n",
            "Requirement already satisfied: aiohttp in /usr/local/lib/python3.7/dist-packages (from datasets) (3.8.3)\n",
            "Collecting pyarrow>=6.0.0\n",
            "  Downloading pyarrow-10.0.0-cp37-cp37m-manylinux_2_17_x86_64.manylinux2014_x86_64.whl (35.4 MB)\n",
            "\u001b[K     |████████████████████████████████| 35.4 MB 95.5 MB/s \n",
            "\u001b[?25hRequirement already satisfied: responses<0.19 in /usr/local/lib/python3.7/dist-packages (from datasets) (0.18.0)\n",
            "Requirement already satisfied: pandas in /usr/local/lib/python3.7/dist-packages (from datasets) (1.3.5)\n",
            "Requirement already satisfied: fsspec[http]>=2021.11.1 in /usr/local/lib/python3.7/dist-packages (from datasets) (2022.10.0)\n",
            "Requirement already satisfied: xxhash in /usr/local/lib/python3.7/dist-packages (from datasets) (3.1.0)\n",
            "Requirement already satisfied: dill<0.3.6 in /usr/local/lib/python3.7/dist-packages (from datasets) (0.3.5.1)\n",
            "Requirement already satisfied: attrs>=17.3.0 in /usr/local/lib/python3.7/dist-packages (from aiohttp->datasets) (22.1.0)\n",
            "Requirement already satisfied: asynctest==0.13.0 in /usr/local/lib/python3.7/dist-packages (from aiohttp->datasets) (0.13.0)\n",
            "Requirement already satisfied: frozenlist>=1.1.1 in /usr/local/lib/python3.7/dist-packages (from aiohttp->datasets) (1.3.1)\n",
            "Requirement already satisfied: yarl<2.0,>=1.0 in /usr/local/lib/python3.7/dist-packages (from aiohttp->datasets) (1.8.1)\n",
            "Requirement already satisfied: aiosignal>=1.1.2 in /usr/local/lib/python3.7/dist-packages (from aiohttp->datasets) (1.2.0)\n",
            "Requirement already satisfied: multidict<7.0,>=4.5 in /usr/local/lib/python3.7/dist-packages (from aiohttp->datasets) (6.0.2)\n",
            "Requirement already satisfied: charset-normalizer<3.0,>=2.0 in /usr/local/lib/python3.7/dist-packages (from aiohttp->datasets) (2.1.1)\n",
            "Requirement already satisfied: async-timeout<5.0,>=4.0.0a3 in /usr/local/lib/python3.7/dist-packages (from aiohttp->datasets) (4.0.2)\n",
            "Requirement already satisfied: chardet<4,>=3.0.2 in /usr/local/lib/python3.7/dist-packages (from requests->huggingface-hub>=0.4.0->sentence-transformers) (3.0.4)\n",
            "Requirement already satisfied: urllib3!=1.25.0,!=1.25.1,<1.26,>=1.21.1 in /usr/local/lib/python3.7/dist-packages (from requests->huggingface-hub>=0.4.0->sentence-transformers) (1.25.11)\n",
            "Requirement already satisfied: certifi>=2017.4.17 in /usr/local/lib/python3.7/dist-packages (from requests->huggingface-hub>=0.4.0->sentence-transformers) (2022.9.24)\n",
            "Requirement already satisfied: idna<3,>=2.5 in /usr/local/lib/python3.7/dist-packages (from requests->huggingface-hub>=0.4.0->sentence-transformers) (2.10)\n",
            "Requirement already satisfied: zipp>=0.5 in /usr/local/lib/python3.7/dist-packages (from importlib-metadata->huggingface-hub>=0.4.0->sentence-transformers) (3.10.0)\n",
            "Requirement already satisfied: joblib in /usr/local/lib/python3.7/dist-packages (from nltk->sentence-transformers) (1.2.0)\n",
            "Requirement already satisfied: click in /usr/local/lib/python3.7/dist-packages (from nltk->sentence-transformers) (7.1.2)\n",
            "Requirement already satisfied: python-dateutil>=2.7.3 in /usr/local/lib/python3.7/dist-packages (from pandas->datasets) (2.8.2)\n",
            "Requirement already satisfied: pytz>=2017.3 in /usr/local/lib/python3.7/dist-packages (from pandas->datasets) (2022.6)\n",
            "Requirement already satisfied: six>=1.5 in /usr/local/lib/python3.7/dist-packages (from python-dateutil>=2.7.3->pandas->datasets) (1.16.0)\n",
            "Requirement already satisfied: threadpoolctl>=2.0.0 in /usr/local/lib/python3.7/dist-packages (from scikit-learn->sentence-transformers) (3.1.0)\n",
            "Requirement already satisfied: pillow!=8.3.*,>=5.3.0 in /usr/local/lib/python3.7/dist-packages (from torchvision->sentence-transformers) (7.1.2)\n",
            "Installing collected packages: tqdm, tokenizers, huggingface-hub, transformers, pyarrow, datasets\n",
            "  Attempting uninstall: tqdm\n",
            "    Found existing installation: tqdm 4.49.0\n",
            "    Uninstalling tqdm-4.49.0:\n",
            "      Successfully uninstalled tqdm-4.49.0\n",
            "  Attempting uninstall: tokenizers\n",
            "    Found existing installation: tokenizers 0.10.3\n",
            "    Uninstalling tokenizers-0.10.3:\n",
            "      Successfully uninstalled tokenizers-0.10.3\n",
            "  Attempting uninstall: huggingface-hub\n",
            "    Found existing installation: huggingface-hub 0.0.12\n",
            "    Uninstalling huggingface-hub-0.0.12:\n",
            "      Successfully uninstalled huggingface-hub-0.0.12\n",
            "  Attempting uninstall: transformers\n",
            "    Found existing installation: transformers 4.8.1\n",
            "    Uninstalling transformers-4.8.1:\n",
            "      Successfully uninstalled transformers-4.8.1\n",
            "  Attempting uninstall: pyarrow\n",
            "    Found existing installation: pyarrow 3.0.0\n",
            "    Uninstalling pyarrow-3.0.0:\n",
            "      Successfully uninstalled pyarrow-3.0.0\n",
            "  Attempting uninstall: datasets\n",
            "    Found existing installation: datasets 1.7.0\n",
            "    Uninstalling datasets-1.7.0:\n",
            "      Successfully uninstalled datasets-1.7.0\n",
            "\u001b[31mERROR: pip's dependency resolver does not currently take into account all the packages that are installed. This behaviour is the source of the following dependency conflicts.\n",
            "questeval 0.2.4 requires datasets==1.7.0, but you have datasets 2.6.1 which is incompatible.\n",
            "questeval 0.2.4 requires transformers==4.8.1, but you have transformers 4.24.0 which is incompatible.\n",
            "en-core-web-sm 3.4.1 requires spacy<3.5.0,>=3.4.0, but you have spacy 3.0.6 which is incompatible.\u001b[0m\n",
            "Successfully installed datasets-2.6.1 huggingface-hub-0.10.1 pyarrow-10.0.0 tokenizers-0.13.2 tqdm-4.64.1 transformers-4.24.0\n"
          ]
        },
        {
          "output_type": "display_data",
          "data": {
            "application/vnd.colab-display-data+json": {
              "pip_warning": {
                "packages": [
                  "datasets",
                  "huggingface_hub",
                  "pyarrow",
                  "tokenizers",
                  "tqdm",
                  "transformers"
                ]
              }
            }
          },
          "metadata": {}
        }
      ],
      "source": [
        "!pip install -U sentence-transformers rank_bm25 faiss-gpu datasets"
      ]
    },
    {
      "cell_type": "markdown",
      "metadata": {
        "id": "4MG__xXXNw2w"
      },
      "source": [
        "## Mount your Google drive in order to save data"
      ]
    },
    {
      "cell_type": "code",
      "execution_count": 2,
      "metadata": {
        "colab": {
          "base_uri": "https://localhost:8080/"
        },
        "id": "v4plNt6AtUlm",
        "outputId": "f06c8367-8d23-4e86-b56c-d6009a3ac428"
      },
      "outputs": [
        {
          "output_type": "stream",
          "name": "stdout",
          "text": [
            "Drive already mounted at /content/drive; to attempt to forcibly remount, call drive.mount(\"/content/drive\", force_remount=True).\n"
          ]
        }
      ],
      "source": [
        "from google.colab import drive\n",
        "from pathlib import Path\n",
        "import os\n",
        "drive.mount('/content/drive')"
      ]
    },
    {
      "cell_type": "code",
      "execution_count": 3,
      "metadata": {
        "id": "6CrhPYF3RX5L"
      },
      "outputs": [],
      "source": [
        "!mkdir -p drive/MyDrive/ai_agents/hw3\n",
        "!mkdir -p drive/MyDrive/ai_agents/hw3/.cache"
      ]
    },
    {
      "cell_type": "code",
      "execution_count": 3,
      "metadata": {
        "id": "6-8pvySMS5Ik"
      },
      "outputs": [],
      "source": [
        "os.chdir(\"drive/MyDrive/ai_agents/hw3\")"
      ]
    },
    {
      "cell_type": "markdown",
      "metadata": {
        "id": "B7H6BpZ2N9Bl"
      },
      "source": [
        "## Download a small corpus of Wikipedia articles and split it into snippets\n",
        "\n",
        "We will use a corpus used by the SentenceTransformers author. This cell constructs a list, `passages`, containined `(title, snippet)` tuples."
      ]
    },
    {
      "cell_type": "code",
      "execution_count": 4,
      "metadata": {
        "id": "OVJo1mOpNkij"
      },
      "outputs": [],
      "source": [
        "import json\n",
        "import gzip\n",
        "import torch\n",
        "from sentence_transformers import util\n",
        "\n",
        "if not torch.cuda.is_available():\n",
        "    print(\"Warning: No GPU found. Please add GPU to your notebook\")\n",
        "\n",
        "\n",
        "wikipedia_filepath = 'simplewiki-2020-11-01.jsonl.gz'\n",
        "\n",
        "if not os.path.exists(wikipedia_filepath):\n",
        "    util.http_get('http://sbert.net/datasets/simplewiki-2020-11-01.jsonl.gz', wikipedia_filepath)\n",
        "\n",
        "\n",
        "passages = []\n",
        "with gzip.open(wikipedia_filepath, 'rt', encoding='utf8') as fIn:\n",
        "    for line in fIn:\n",
        "        data = json.loads(line.strip())\n",
        "        for paragraph in data['paragraphs']:\n",
        "            # We encode the passages as [title, text]\n",
        "            passages.append(dict(title=data['title'], passage=paragraph))"
      ]
    },
    {
      "cell_type": "code",
      "source": [
        "from datasets import Dataset\n",
        "\n",
        "passages = Dataset.from_list(passages)\n",
        "type(passages)"
      ],
      "metadata": {
        "colab": {
          "base_uri": "https://localhost:8080/"
        },
        "id": "QgSgFsa3NkZj",
        "outputId": "3df6a070-be04-4b2c-b6db-ba4409f8715b"
      },
      "execution_count": 5,
      "outputs": [
        {
          "output_type": "execute_result",
          "data": {
            "text/plain": [
              "datasets.arrow_dataset.Dataset"
            ]
          },
          "metadata": {},
          "execution_count": 5
        }
      ]
    },
    {
      "cell_type": "markdown",
      "source": [
        "# Problem 3"
      ],
      "metadata": {
        "id": "JFAt7QqaPkSs"
      }
    },
    {
      "cell_type": "markdown",
      "metadata": {
        "id": "nEOx_j1jjXTa"
      },
      "source": [
        "## **3.1**: Build a BM25 Search Index\n",
        "\n",
        "Construct a search index that, given a query span, returns a top-n list of support passages."
      ]
    },
    {
      "cell_type": "code",
      "execution_count": 7,
      "metadata": {
        "id": "norFAq-7jgJ0"
      },
      "outputs": [],
      "source": [
        "from typing import List,Tuple\n",
        "import datasets\n",
        "## Here is a base class that you should use for both sparse and dense retrieval\n",
        "\n",
        "class RetrievalIndex:\n",
        "\n",
        "  def __init__(self, corpus: datasets.arrow_dataset.Dataset):\n",
        "    self.corpus = corpus\n",
        "    \n",
        "  def __getitem__(self, item):\n",
        "    return [i for i in self.corpus.select([item])][0]\n",
        "\n",
        "  @classmethod\n",
        "  def build_index(cls, corpus, **kwargs):\n",
        "    \"\"\"\n",
        "    Class method that constructs a retrieval index from the corpus\n",
        "    \"\"\"\n",
        "    return cls(corpus, **kwargs)\n",
        "\n",
        "  \n",
        "  def lookup(self, query_strs: List[str], topk = 5) -> List[List[Tuple[str, str, float]]]:\n",
        "    \"\"\"\n",
        "    Accepts a list of query strings and returns a list of lists of (title, passage, score) tuples\n",
        "    \"\"\"\n",
        "    raise NotImplementedError()"
      ]
    },
    {
      "cell_type": "code",
      "execution_count": 368,
      "metadata": {
        "id": "V34bm-bAkHOn"
      },
      "outputs": [],
      "source": [
        "from rank_bm25 import BM25Okapi\n",
        "import numpy as np\n",
        "import math,numpy as np\n",
        "class BM25RetrievalIndex(RetrievalIndex):\n",
        "  def __init__(self, corpus):\n",
        "    \"\"\"\n",
        "    tokenize your corpus and initialize your BM25 index. \n",
        "    Follow the simple usage shown on the library's Github page: https://github.com/dorianbrown/rank_bm25\n",
        "    \"\"\"\n",
        "    self.corpustitles = np.array([i['title'] for i in corpus])\n",
        "    self.corpus = [document['passage'].split(\" \") for document in corpus]\n",
        "    self.bm25 = BM25Okapi(self.corpus)\n",
        "\n",
        "  def lookup(self, query_strs, topk = 5) -> List[List[Tuple[str, str, float]]]:\n",
        "    \"\"\"\n",
        "    Retrieve document scores from your BM25 index for each of a list of queries.\n",
        "    make sure that each list of returned items is sorted by document score.\n",
        "    \"\"\"\n",
        "    query_strs = [query.split(\" \") for query in query_strs]\n",
        "    final_tuples = []\n",
        "    for query in query_strs:\n",
        "      tuples=[]\n",
        "      scores = self.bm25.get_scores(query)\n",
        "      top_k = np.argsort(scores)[::-1][:topk]\n",
        "      for i in range(topk):\n",
        "        tuples.append((self.corpustitles[top_k[i]], self.corpus[top_k[i]], scores[top_k[i]]))\n",
        "      final_tuples.append(tuples)\n",
        "    return final_tuples\n"
      ]
    },
    {
      "cell_type": "code",
      "execution_count": 369,
      "metadata": {
        "id": "LGQrJXi-HLHq"
      },
      "outputs": [],
      "source": [
        "bm25_index = BM25RetrievalIndex.build_index(passages)"
      ]
    },
    {
      "cell_type": "code",
      "execution_count": 375,
      "metadata": {
        "id": "vt72regxLY_g",
        "colab": {
          "base_uri": "https://localhost:8080/"
        },
        "outputId": "391c4e3a-1bbb-4d31-f399-46d10036cc21"
      },
      "outputs": [
        {
          "output_type": "execute_result",
          "data": {
            "text/plain": [
              "[[('Collective animal behaviour',\n",
              "   ['3.',\n",
              "    '\"Easier',\n",
              "    'movement\":',\n",
              "    'Groups',\n",
              "    'of',\n",
              "    'animals',\n",
              "    'moving',\n",
              "    'together',\n",
              "    '(such',\n",
              "    'as',\n",
              "    'fish',\n",
              "    'or',\n",
              "    'birds)',\n",
              "    'save',\n",
              "    'energy.',\n",
              "    'Many',\n",
              "    'of',\n",
              "    'the',\n",
              "    'larger',\n",
              "    'birds',\n",
              "    'fly',\n",
              "    'in',\n",
              "    'flocks.',\n",
              "    'Flying',\n",
              "    'in',\n",
              "    'flocks',\n",
              "    'helps',\n",
              "    'in',\n",
              "    'reducing',\n",
              "    'the',\n",
              "    'energy',\n",
              "    'needed.',\n",
              "    'Many',\n",
              "    'large',\n",
              "    'birds',\n",
              "    'fly',\n",
              "    'in',\n",
              "    'a',\n",
              "    'V-formation,',\n",
              "    'which',\n",
              "    'helps',\n",
              "    'individuals',\n",
              "    'save',\n",
              "    '12–20',\n",
              "    '%',\n",
              "    'of',\n",
              "    'the',\n",
              "    'energy',\n",
              "    'they',\n",
              "    'would',\n",
              "    'need',\n",
              "    'to',\n",
              "    'fly',\n",
              "    'alone.',\n",
              "    'Red',\n",
              "    'Knots',\n",
              "    '\"Calidris',\n",
              "    'canutus\"',\n",
              "    'and',\n",
              "    'Dunlins',\n",
              "    '\"Calidris',\n",
              "    'alpina\"',\n",
              "    'were',\n",
              "    'found',\n",
              "    'in',\n",
              "    'radar',\n",
              "    'studies',\n",
              "    'to',\n",
              "    'fly',\n",
              "    '5\\xa0km',\n",
              "    'per',\n",
              "    'hour',\n",
              "    'faster',\n",
              "    'in',\n",
              "    'flocks',\n",
              "    'than',\n",
              "    'when',\n",
              "    'they',\n",
              "    'were',\n",
              "    'flying',\n",
              "    'alone.'],\n",
              "   24.367091203145385),\n",
              "  ('Migration',\n",
              "   ['Many',\n",
              "    'birds',\n",
              "    'fly',\n",
              "    'to',\n",
              "    'warmer',\n",
              "    'places',\n",
              "    'for',\n",
              "    'the',\n",
              "    'winter,',\n",
              "    'as',\n",
              "    'do',\n",
              "    'some',\n",
              "    'insects',\n",
              "    'such',\n",
              "    'as',\n",
              "    'the',\n",
              "    'migratory',\n",
              "    'locust.',\n",
              "    'Young',\n",
              "    'Atlantic',\n",
              "    'salmon',\n",
              "    'leave',\n",
              "    'the',\n",
              "    'river',\n",
              "    'of',\n",
              "    'their',\n",
              "    'birth',\n",
              "    'when',\n",
              "    'they',\n",
              "    'have',\n",
              "    'reached',\n",
              "    'a',\n",
              "    'few',\n",
              "    'inches',\n",
              "    '(cm)',\n",
              "    'in',\n",
              "    'size.'],\n",
              "   24.09441819612898),\n",
              "  ('Imprinting',\n",
              "   ['The',\n",
              "    'filial',\n",
              "    'imprinting',\n",
              "    'of',\n",
              "    'birds',\n",
              "    'was',\n",
              "    'a',\n",
              "    'primary',\n",
              "    'technique',\n",
              "    'used',\n",
              "    'to',\n",
              "    'create',\n",
              "    'the',\n",
              "    'movie',\n",
              "    '\"Winged',\n",
              "    'Migration',\n",
              "    '(Le',\n",
              "    'Peuple',\n",
              "    'Migrateur)\",',\n",
              "    'which',\n",
              "    'contains',\n",
              "    'footage',\n",
              "    'of',\n",
              "    'migratory',\n",
              "    'birds',\n",
              "    'in',\n",
              "    'flight.',\n",
              "    'The',\n",
              "    'birds',\n",
              "    'imprinted',\n",
              "    'on',\n",
              "    'handlers,',\n",
              "    'who',\n",
              "    'wore',\n",
              "    'yellow',\n",
              "    'jackets',\n",
              "    'and',\n",
              "    'honked',\n",
              "    'horns',\n",
              "    'constantly.',\n",
              "    'The',\n",
              "    'birds',\n",
              "    'were',\n",
              "    'then',\n",
              "    'trained',\n",
              "    'to',\n",
              "    'fly',\n",
              "    'along',\n",
              "    'with',\n",
              "    'a',\n",
              "    'variety',\n",
              "    'of',\n",
              "    'aircraft,',\n",
              "    'usually',\n",
              "    'ultralights.'],\n",
              "   22.96665876920973),\n",
              "  ('Mourning dove',\n",
              "   ['These',\n",
              "    'birds',\n",
              "    'are',\n",
              "    'a',\n",
              "    'strong',\n",
              "    'fliers',\n",
              "    'and',\n",
              "    'can',\n",
              "    'fly',\n",
              "    'up',\n",
              "    'to',\n",
              "    '88\\xa0km/h',\n",
              "    '(55\\xa0mph).'],\n",
              "   22.875002232198973),\n",
              "  ('Puffin',\n",
              "   ['Puffins',\n",
              "    'are',\n",
              "    'sea',\n",
              "    'birds',\n",
              "    'that',\n",
              "    'can',\n",
              "    'fly',\n",
              "    'and',\n",
              "    'swim.',\n",
              "    'These',\n",
              "    'squat',\n",
              "    'birds',\n",
              "    'live',\n",
              "    'in',\n",
              "    'the',\n",
              "    'cold',\n",
              "    'sea',\n",
              "    'of',\n",
              "    'the',\n",
              "    'northern',\n",
              "    'Arctic',\n",
              "    'Ocean.',\n",
              "    'In',\n",
              "    'the',\n",
              "    'breeding',\n",
              "    'season',\n",
              "    'they',\n",
              "    'move',\n",
              "    'to',\n",
              "    'the',\n",
              "    'coast,',\n",
              "    'where',\n",
              "    'they',\n",
              "    'dig',\n",
              "    'burrows',\n",
              "    'on',\n",
              "    'cliffs',\n",
              "    'and',\n",
              "    'make',\n",
              "    'a',\n",
              "    'nest',\n",
              "    'in',\n",
              "    'the',\n",
              "    'burrow.'],\n",
              "   22.41393626524665)]]"
            ]
          },
          "metadata": {},
          "execution_count": 375
        }
      ],
      "source": [
        "bm25_index.lookup([\"why do birds fly in a v formation?\"],5)"
      ]
    },
    {
      "cell_type": "markdown",
      "source": [
        "#Passage Retrieval for Questions I used in my HW-1 with BM25"
      ],
      "metadata": {
        "id": "5xHWcNt3UKsB"
      }
    },
    {
      "cell_type": "code",
      "source": [
        "query_strs= [\"How does the white ball pass through the chute during a game of paid pool on a scratch, but the other balls won't?\",\n",
        " 'How are military documentaries, which include deployment footage interviews, made?',\n",
        " 'Why is it that getting raw meat in your blood (through a cut on your finger) or mucous membranes (under fingernails) does not cause food poisoning, but eating it can make you violently ill?',\n",
        " 'Why is snow white when water and ice are clear?',\n",
        " 'Why do we use a different letter \"a\" when typing as opposed to when writing?']\n",
        "similars = bm25_index.lookup(query_strs,3)\n",
        "for j in similars:\n",
        "  for i in j:\n",
        "    print(\"Title: \",i[0],\"Passage: \", \" \".join(i[1]),\"Score: \",i[2])\n",
        "  print(\"\\n\\n\")"
      ],
      "metadata": {
        "colab": {
          "base_uri": "https://localhost:8080/"
        },
        "id": "zhVY-6iBUJkE",
        "outputId": "2162a48f-1c95-489b-aaf3-c6519fd22080"
      },
      "execution_count": 373,
      "outputs": [
        {
          "output_type": "stream",
          "name": "stdout",
          "text": [
            "Title:  Straight pool Passage:  In straight pool, the person shooting may attempt to pocket any ball on the table. The aim of the game is to reach a set number of points. The amount of points needed to win is agreed to before the game. One point is scored for each ball pocketed legally (that is, without a foul). A typical game might require a player to score 100 points. This means that at least 100 balls must be pocketed to win. In professional competition, straight pool is usually played to 150 points. Straight pool is a call-pocket game. This means that the player must call what pocket they mean to sink the ball into on every shot. It does not matter how balls reach the pocket. As long as no foul is involved, and the balls goes into the pocket that is called, a point is scored. Score:  55.17981286144577\n",
            "Title:  Straight pool Passage:  In the first rack in straight pool (when you place all the balls together before the break), the fifteen object balls (the colored balls) are racked in a triangular frame, usually made from aluminum, wood, or plastic. The center of the ball at the top of the rack is placed over the a spot on the table called the foot spot. Traditionally, the 1 ball is placed at the rack's right corner, and the 5 ball is placed at the rack's left corner. Other balls are placed randomly. All the balls must touch their neighbors. However, it is considered a courtesy by some players to place a striped ball at the front of the rack. This is because the break is very important and it is believed that a striped ball is easier to hit very precisely. Score:  53.94151146469053\n",
            "Title:  Golden Balls Passage:  Again the golden balls that the contestants bring through to the final, are put back into the ball machine. Again Amanda puts 1 more killer into the game. There are 11 balls, that are placed onto a table with 5 golden slots for the balls to win, and a hole for the balls to bin. The 2 contestants take it in turns to pick a ball to bin, (which means it is out of the game), and pick a ball to win, (which goes into 1 of the 5 winning golden slots). Score:  50.76771168767886\n",
            "\n",
            "\n",
            "\n",
            "Title:  The Young Ones Passage:  DVD releases have been somewhat basic: only the U.S. \"Every Stoopid Episode\" edition featured documentaries, and no extra footage was included. Musical references proved difficult to clear, so \"The Sound of Silence\" and \"Subterranean Homesick Blues\" were cut from the U.S. editions. Score:  18.860247661003687\n",
            "Title:  Stock footage Passage:  Stock footage (also called archive footage, library pictures, and file footage) is movie or video footage that can be used in other movies. This type of footage is not made by the person who makes the movie. Instead, the footage has already been shot by another person and is being used by the person who is making the movie. People who make movies use stock footage because it's less expensive to use stock footage than it is to shoot new footage. A piece of stock footage is called a \"stock shot\" or a \"library shot\". Examples of stock footage that might be used include video of cities and landmarks, animals in their habitats, and historical footage. Many websites such as YouTube allow people to view or download stock footage. Score:  16.70924054569443\n",
            "Title:  Altarpiece Passage:  How big are altarpieces? Score:  15.837646620843024\n",
            "\n",
            "\n",
            "\n",
            "Title:  Medieval music Passage:  It was believed that if you were entertained with music while you are eating it would help you digest your food and help keep your heart healthy. And people believed that you will not get fat even if you scoffed down a load of food. Also eating food while having people dancing for you was believed to have made you fit. Score:  50.53066404475569\n",
            "Title:  Serotonin syndrome Passage:  Serotonin syndrome, also known as serotonin poisoning, serotonin sickness, and many other names, is a medical condition that can happen if there is too much serotonin in your brain or other parts of your nervous system. Serotonin syndrome can be mild (doesn't make you very sick), but in rare situations, it can kill you. Serotonin syndrome can happen if you use some drugs that can increase the amount of serotonin in your nervous system. Some examples of drugs that can make you have serotonin syndrome are antidepressants, opioids, CNS stimulants, 5-HT agonists (a drug that changes the receptors of serotonin), psychedelics, herbs, and many others. Score:  48.93966739555474\n",
            "Title:  Psoriasis Passage:  It appears to be a buildup of dry skin on your body. You can have it at any age, but normally as you get older. It starts with the skin cracking as a paper cut on your fingertips. This skin would begin to die, flake, peal and itch. As your itch the area, it begins to get red and then it begins to blister like, flake and peals to raw skin. It appears most often on hands, toes, inside arch of your feet and on you heals. It is also shows up in callus, by cracking. When washing hands it has a burning effect. Score:  47.20149947605178\n",
            "\n",
            "\n",
            "\n",
            "Title:  Feedback Passage:  Warm temperature caused a glacier to melt. As the glacier melts, areas that were at one time covered by snow and ice are now water or land. Because snow and ice reflect heat but water and land absorb heat, this causes the glacier to melt faster as more snow and ice is melted. This type of positive feedback is an example of thermal runaway. Score:  30.593455062113552\n",
            "Title:  Scotia Sea Passage:  The islands are rocky and partly covered in ice and snow year round. Score:  26.24809372840527\n",
            "Title:  Ice algae Passage:  Ice algae and snow algae are algae and cyanobacteria which grow on long-lasting snow and ice fields like glaciers. When liquid water is available between the snow and ice crystals, they may color the surface green, yellow or red during the summer months. The red pigment of some species is an intracellular protection against excessive visual light and ultraviolet radiation of the sun, which otherwise can cause photoinhibition of photosynthesis or mutations. Without it, the algae at the surface would suffer chromosome breaks and DNA mutations. Score:  24.886295181983613\n",
            "\n",
            "\n",
            "\n",
            "Title:  Fermat's primality test Passage:  when \"n\" is composite is known as a \"Fermat liar\". If we do pick an \"a\" such that Score:  37.746809232963805\n",
            "Title:  Fundamental theorem of arithmetic Passage:  To do this, we use the following lemma: if a prime number \"p\" divides a product \"ab\", then it divides \"a\" or it divides \"b\" (Euclid's lemma). Score:  30.262854539435395\n",
            "Title:  Backspace Passage:  In typewriters, a typist would, for example, type a lowercase letter \"a\" with acute accent (á) by typing a lowercase letter \"a\" then backspace, and then the acute accent key (also known as overstrike). This is the basis for such spacing modifiers in computer character sets such as the ASCII caret (^, for the circumflex accent). Backspace composition no longer works with digital displays or typesetting systems. It has to some degree been replaced with the combining diacritical marks mechanism of Unicode, though such characters do not work well with many fonts, and precomposed characters continue to be used. Some software like TeX or Microsoft Windows use the opposite method for diacritical marks, namely positioning the accent first, and then placing the base letter at that position. Score:  28.00559197516965\n",
            "\n",
            "\n",
            "\n"
          ]
        }
      ]
    },
    {
      "cell_type": "markdown",
      "metadata": {
        "id": "Hb4iyN54Mk0s"
      },
      "source": [
        "## **3.2**: Building a Dense Retrieval Index"
      ]
    },
    {
      "cell_type": "code",
      "execution_count": 214,
      "metadata": {
        "id": "H9qxaNbpMpPr"
      },
      "outputs": [],
      "source": [
        "import faiss \n",
        "from sentence_transformers import SentenceTransformer, CrossEncoder, util\n",
        "\n",
        "\n",
        "class DenseRetrievalIndex(RetrievalIndex):\n",
        "  def __init__(self, corpus: List[Tuple[str,str]], precomputed_index : str =None):\n",
        "    \"\"\" \n",
        "    compute the embeddings for each passage in the wiki corpus, then feed them \n",
        "    to the `add_faiss_index` builtin function from HuggingFace's Dataset class\n",
        "    https://huggingface.co/docs/datasets/v1.2.1/faiss_and_ea.html\n",
        "\n",
        "    (Optional but recommended) if the filepath argument `precomputed_index` is not None, \n",
        "    then this should not compute the embeddings but rather call load_faiss_index on the path\n",
        "\n",
        "    \"\"\"\n",
        "    self.ds_with_embeddings=[]\n",
        "    if precomputed_index != None:\n",
        "      self.corpustitles = np.array([i['title'] for i in corpus])\n",
        "\n",
        "\n",
        "      self.encoder = SentenceTransformer('msmarco-MiniLM-L-6-v3')\n",
        "      print(\"done creating\")\n",
        "      print(type(corpus))\n",
        "      self.ds_with_embeddings = corpus.map(lambda example:  {'embeddings': self.encoder.encode(example['title'] + ' ~x~ ' + example['passage'])})\n",
        "      self.ds_with_embeddings.add_faiss_index(column='embeddings')\n",
        "    else:\n",
        "      corpus.load_faiss_index('embeddings', 'msmarco_sbert.faiss')\n",
        "\n",
        "\n",
        "  def save(self, file):\n",
        "    \"\"\"\n",
        "    (Optional but recommended) helper that saves the index to a file using `save_faiss_index` \n",
        "    \"\"\"\n",
        "    self.ds_with_embeddings.save_faiss_index('embeddings', file)\n",
        "  def lookup(self, query_strs, topk=10):\n",
        "\n",
        "    finaltuple = []\n",
        "    for query in query_strs:\n",
        "      question_emb = self.encoder.encode(query)\n",
        "      scores,examples = self.ds_with_embeddings.get_nearest_examples('embeddings', question_emb, k=topk)\n",
        "      scores_examples=[]\n",
        "      for i in range(len(scores)):\n",
        "        scores_examples.append((scores[i],(examples['title'][i],examples['passage'][i],scores[i])))\n",
        "      scores_examples.sort(reverse=True)\n",
        "      finaltuple.append([i[1] for i in scores_examples[:topk]])\n",
        "\n",
        "    return finaltuple\n",
        "\n",
        "  @classmethod\n",
        "  def from_file(cls, corpus, file):\n",
        "      \"\"\"\n",
        "      (Optional but recommended) helper that loads the index from the specified filepath \n",
        "      \"\"\"\n",
        "      assert os.path.exists(file)\n",
        "      return cls(corpus=corpus, precomputed_index=file)"
      ]
    },
    {
      "cell_type": "code",
      "execution_count": 215,
      "metadata": {
        "id": "BGwFiduyTJTY",
        "colab": {
          "base_uri": "https://localhost:8080/",
          "height": 84,
          "referenced_widgets": [
            "2747ea9680754a84a50dc824a7e547cd",
            "b633a6be501142b6b2a8b926fef4a38d",
            "b1295b583eb642f88b42a187cb777668",
            "1a381e3cef604c5b91e5dd75a2a11670",
            "3207a3c80ce24eee9c76154be0fa11e5",
            "1dc5f128fe824cc690194360a8785eb0",
            "ccf965497e2042ddab00254df3859e20",
            "e05667fed83949b49b7e0d0439c638fa",
            "96ff6fcd5708404ab4ec31fca6a5becd",
            "a4099ca7b8f24bd8bf92dffb50dfea13",
            "78549933919e4810943963f88d6d336d"
          ]
        },
        "outputId": "102dc5b4-c8cf-4b52-d13e-d4e0337be049"
      },
      "outputs": [
        {
          "output_type": "stream",
          "name": "stdout",
          "text": [
            "done creating\n",
            "<class 'datasets.arrow_dataset.Dataset'>\n"
          ]
        },
        {
          "output_type": "display_data",
          "data": {
            "text/plain": [
              "  0%|          | 0/509663 [00:00<?, ?ex/s]"
            ],
            "application/vnd.jupyter.widget-view+json": {
              "version_major": 2,
              "version_minor": 0,
              "model_id": "2747ea9680754a84a50dc824a7e547cd"
            }
          },
          "metadata": {}
        }
      ],
      "source": [
        "dense_index = DenseRetrievalIndex.build_index(passages)\n",
        "\n",
        "## Uncomment this line and initialize this way if you have already computed and saved the index\n",
        "# dense_index = DenseRetrievalIndex.from_file(passages, 'msmarco_sbert.faiss')\n"
      ]
    },
    {
      "cell_type": "code",
      "execution_count": 348,
      "metadata": {
        "id": "fLEaw4vsTNP-",
        "colab": {
          "base_uri": "https://localhost:8080/"
        },
        "outputId": "9a87c62b-fcdf-43fc-8660-d09c9819dce2"
      },
      "outputs": [
        {
          "output_type": "execute_result",
          "data": {
            "text/plain": [
              "[[('Collective animal behaviour',\n",
              "   '3. \"Easier movement\": Groups of animals moving together (such as fish or birds) save energy. Many of the larger birds fly in flocks. Flying in flocks helps in reducing the energy needed. Many large birds fly in a V-formation, which helps individuals save 12–20 % of the energy they would need to fly alone. Red Knots \"Calidris canutus\" and Dunlins \"Calidris alpina\" were found in radar studies to fly 5\\xa0km per hour faster in flocks than when they were flying alone.',\n",
              "   44.239742),\n",
              "  ('Flightless birds',\n",
              "   'Despite this general picture, there have been birds who lost the power of flight soon after flight evolved. The first fossil flightless birds occurred in the Cretaceous period. It has long been recognised that there are circumstances where it is definitely not a good thing to have wings. The connection between oceanic islands and flightlessness was known to Darwin. The explanation is that, first, oceanic islands have few predators. Second, that storms occur which may blow winged birds right off the island so far that they cannot find they way back. Once they lose flight, the land birds can evolve to be larger and heavier, and many do so. \"Phorusrhacos\" became a dominant land carnivore.',\n",
              "   42.90398),\n",
              "  ('Bird',\n",
              "   'Two common behaviours in flocking birds are guarding and reconnaissance. When a flock of birds is feeding it is common for one bird to perch on a high place to keep guard over the flock. In the same way, when a flock is asleep, often, one bird will remain awake. It is also common for large flocks to send one or two birds ahead of them when they are flying to a new area. The look-out birds can spy the lie of the land to find food, water and good places to perch.',\n",
              "   42.029556),\n",
              "  ('Bird',\n",
              "   'Flocks of birds can be very highly organised in a way that takes care of all the flock members. Studies of small flocking birds like tree sparrows show that they clearly communicate with each other, as sometimes thousands of birds may fly in close formation and spiral patterns without colliding (or flying into each other).',\n",
              "   41.328617),\n",
              "  ('Collective animal behaviour',\n",
              "   '5. Special factors come into play with migrating birds, or birds which gather in huge flocks, such as starlings. Bird behavior has a larger component of learning than fish. In addition to factors listed above is the possibility that migrating bird flocks are good at teaching first-year birds how to do the migration successfully. The specific routes may be genetically programmed or learned to varying degrees. The routes taken on forward and return migration are often different.',\n",
              "   40.348934)]]"
            ]
          },
          "metadata": {},
          "execution_count": 348
        }
      ],
      "source": [
        "dense_index.lookup([\"why do flocks of birds fly in a v formation?\"], topk=5)"
      ]
    },
    {
      "cell_type": "markdown",
      "source": [
        "#Passage Retrieval for Questions I used in my HW-1 with Dense Retreival"
      ],
      "metadata": {
        "id": "UvQnC0DyRFk2"
      }
    },
    {
      "cell_type": "code",
      "source": [
        "query_strs= [\"How does the white ball pass through the chute during a game of paid pool on a scratch, but the other balls won't?\",\n",
        " 'How are military documentaries, which include deployment footage interviews, made?',\n",
        " 'Why is it that getting raw meat in your blood (through a cut on your finger) or mucous membranes (under fingernails) does not cause food poisoning, but eating it can make you violently ill?',\n",
        " 'Why is snow white when water and ice are clear?',\n",
        " 'Why do we use a different letter \"a\" when typing as opposed to when writing?']\n",
        "dense_index.lookup(query_strs, topk=5)"
      ],
      "metadata": {
        "colab": {
          "base_uri": "https://localhost:8080/"
        },
        "id": "RSQDR-H_O2pH",
        "outputId": "4d6152cf-233b-4d5e-e1f9-7ab538e5cdbe"
      },
      "execution_count": 347,
      "outputs": [
        {
          "output_type": "execute_result",
          "data": {
            "text/plain": [
              "[[('Bat-and-ball games',\n",
              "   'The name bat-and-ball games comes from some common parts of most of these games. In most games, a player on the fielding team puts a ball into play, mostly by throwing the ball. (How the player does this depends on the game\\'s rules.) Then a player on the batting team tries to hit the ball, usually with a \"bat.\" A bat is a kind of club, though the size and shape depend on the rules. This player can then run between the safe zones in the field to score points, though the fielding team can use the ball on the player from the batting team, or a target in one of the safe zones, to get the player \"out\" if they are not in a safe zone. (In cricket, a player who is out can not score points for the rest of their team\\'s scoring turn, while in other bat-and-ball sports, they might have to wait before batting again.) Thus, the further the batting player can hit the ball away from the defensive players, the more points they are likely to be able to score.',\n",
              "   38.812103),\n",
              "  ('Wimbleball Lake',\n",
              "   'The area near the lake is a recreation and sports area. The Outdoor + Active Centre is open for tuition in various watersports activities including sailing, windsurfing, canoeing and rowing. Visitors can also launch their own craft or hire from the centre. The cycle route takes you around the lake, following mostly bridleways and some quiet country lanes. The route passes through woodland and grassland, with glimpses of the lake.',\n",
              "   36.694748),\n",
              "  ('Straight pool',\n",
              "   \"In the first rack in straight pool (when you place all the balls together before the break), the fifteen object balls (the colored balls) are racked in a triangular frame, usually made from aluminum, wood, or plastic. The center of the ball at the top of the rack is placed over the a spot on the table called the foot spot. Traditionally, the 1 ball is placed at the rack's right corner, and the 5 ball is placed at the rack's left corner. Other balls are placed randomly. All the balls must touch their neighbors. However, it is considered a courtesy by some players to place a striped ball at the front of the rack. This is because the break is very important and it is believed that a striped ball is easier to hit very precisely.\",\n",
              "   36.49396),\n",
              "  ('Straight pool',\n",
              "   \"A number of rules detail what must be done when one or both of the cue ball and fifteenth object ball are either in the rack area at the time an intragame rack is neeeded, or are so close to the intragame racking area, that the racking of the 14 balls cannot be done without moving one of them. The rules also vary depending on whether the cue ball or fifteenth object ball are resting on the table's head spot. These rules are shown on the following chart. Note that in the chart the use of the word kitchen refers to the area behind the table's head string.\",\n",
              "   34.9343),\n",
              "  ('Straight pool',\n",
              "   'To reach the point in time when an intragame rack is needed, the balls are played until only the cue ball and only one object ball remain on the table\\'s surface. At that time, if neither the cue ball or the fifteenth object ball remains in the rack area (or is interfering with racking in the rack area) the fourteen pocketed object balls are racked with no ball placed at the top of the rack, and the rack is placed so that \"if the top ball were in the rack\", its center would be placed over the table\\'s foot spot. Play then continues with the cue ball shot from where it rested, and the fifteenth, non-racked object ball from where it rested prior to racking.',\n",
              "   34.867165)],\n",
              " [('Ken Burns',\n",
              "   'His most widely known documentaries are \"The Civil War\" (1990), \"Baseball\" (1994), \"Jazz\" (2001), \"The War\" (2007), \"\" (2009), \"Prohibition\" (2011) and \"The Central Park Five\" (2012)',\n",
              "   54.630085),\n",
              "  ('Academy Award for Best Documentary Feature',\n",
              "   'From 1943 there were two separate documentary categories (features and short films)',\n",
              "   54.62823),\n",
              "  ('The Blair Witch Project',\n",
              "   '\"The Blair Witch Project\" is thought to be the first widely released film marketed primarily on the internet. The film\\'s official website featured fake police reports and \\'newsreel-style\\' interviews. Due to this, audiences and critics initially thought it was an actual documentary about the \\'missing\\' teenagers. These augmented the film\\'s convincing found footage style to spark heated debates across the internet over whether the film was a real-life documentary or a work of fiction.',\n",
              "   54.39654),\n",
              "  ('Ultra Series',\n",
              "   'In 2005 the American company BCI Eclipse announced they had acquired the DVD rights to the original \"Ultraman\" from Chaiyo. A 3-disc box set containing the first 20 episodes of the series was released on July 18, 2006, and a second 3-disc box set containing the remaining 19 episodes was released on November 7, 2006. Both sets feature the original Japanese dialogue track as well as the English dubbed version produced by United Artists for North American people. At certain times, the English dialogue track changed to the Japanese dialogue for small time. This was because BCI had used audio from older recordings in which many scenes had to be cut or shortened for the American broadcast in order to fit running time. Tsuburaya Productions still held on to the complete original English dubbing materials, which they had obtained from a warehouse in 1997, and refused to provide them for BCI. (Contrary to BCI\\'s statements, the original English dubs were complete and uncut, except for a small cut in the conclusion of Episode 36, \"Gift From The Sky.\")',\n",
              "   53.43042),\n",
              "  ('Kakapo',\n",
              "   'Two of the most significant documentaries, both made by NHNZ, are \"Kakapo - Night Parrot\" (1982) and \"To Save the Kakapo\" (1997). The BBC\\'s Natural History Unit also featured the Kakapo, including a sequence with Sir David Attenborough in \"The Life of Birds\". It was also one of the endangered animals that Douglas Adams and Mark Carwardine set out to find for the radio series and book \"Last Chance to See\". An updated version of the series has been produced for BBC TV, in which Stephen Fry and Carwardine revisit the animals to see how they are getting on almost 20 years later, and in January 2009, they spent time filming the Kakapo on Codfish Island.',\n",
              "   50.285267)],\n",
              " [('Food poisoning',\n",
              "   'There are two kinds of food poisoning: poisoning by toxic agent or by infectious agent. Food infection is when the food contains bacteria or other microbes which infect the body after it is eaten. Food intoxication is when the food contains toxins, including bacterially produced exotoxins, which can happen even when the microbe that produced the toxin is no longer present or able to cause infection. Even though it is commonly called \"food poisoning\", most cases are caused by a variety of pathogenic bacteria, viruses, prions or parasites that contaminate food, rather than chemical or natural toxins which are what we usually call poison. According to the Centers for Disease Control and Prevention, about 76 million people in the United States become ill from the food they eat, and about 5,000 of them die every year.',\n",
              "   38.57483),\n",
              "  ('Eating disorder',\n",
              "   \"Eating disorders involve more than just food. Many people with eating disorders are very sad and feel alone. They get depressed and do not want to eat in front of other people. They might use food as a way to cope, or they might restrict their food intake as a means of control. They might eat a lot of food in a very short period of time. They might throw up their food because they feel guilty. They might eat very little because they want to lose weight, even if they are already dangerously underweight (weighing less than what it is considered healthy). Even if they are underweight, they might see themselves as very fat. Many people with eating disorders suffer physical complications, like malnutrition (not getting enough nutrients that the body needs to be healthy), or electrolyte imbalances (a change in the amount of elements such as sodium or potassium that causes problems in the body's ability to work properly). Eating disorders can cause death.\",\n",
              "   38.027054),\n",
              "  ('Fisting',\n",
              "   'Fisting can cause cutting or tearing or of the vagina, perineum, rectum, and/or colon, resulting in serious injury and even death. In general, sexual activities that cause air to enter the vagina can lead to a fatal air clot, and the risk is probably even higher during pregnancy.',\n",
              "   37.83254),\n",
              "  ('Insecticide',\n",
              "   'Insects are very tough animals that have adapted to a great variety of settings. Therefore, the poison used to kill them is also deadly to humans. There can be great danger of eating pesticide when you have vegetables. This is why often people will rub an apple on their jumper before eating it. This adds a nice shine to the apple and rubs away some of the pesticides. If you do not clean the jumper there is a risk pesticide might build up.',\n",
              "   36.78185),\n",
              "  ('Coprophilia',\n",
              "   \"Actually, no one should be eating feces even if they have a strong immune system. The bad breath that comes from eating feces isn't the only taboo, simply putting feces in your mouth is also a taboo.\",\n",
              "   35.925022)],\n",
              " [('Snow',\n",
              "   'At the freezing point of water (0° Celsius, 32° Fahrenheit), snow melts and becomes liquid water. Sometimes, the snow will melt very fast and become water vapor. This is called sublimation. The opposite, where water vapor becomes snow, is called deposition.',\n",
              "   51.852535),\n",
              "  ('Carbon dioxide',\n",
              "   'Dry ice, or solid carbon dioxide, is the solid state of CO gas below -109.3\\xa0°F (-78.5°C). Dry ice does not occur naturally on earth but is man made. It is colorless. People use dry ice to make things cold, and to make drinks fizzy, kill gophers, and freeze warts. The vapor of dry ice causes suffocation and eventually, death. Caution and professional assistance is recommended whenever dry ice is in use.',\n",
              "   51.72318),\n",
              "  ('Frost',\n",
              "   'Frost is ice that is formed when water vapor freezes onto a surface. It has a white, powdery appearance. It forms on cold surfaces when the temperature of the air is very low. It can destroy crops.',\n",
              "   51.078087),\n",
              "  ('Ice',\n",
              "   \"Salt water needs a lower temperature to freeze than pure water. The resulting ice contains much less salt than the salt water it came from. This fact has sometimes been used for desalination. Salty ice is not as strong as frozen pure water. Similarly spreading salt on ice melts it, if it's not too cold: the salt progressively eats into the ice, forming brine which does not freeze at that temperature.\",\n",
              "   49.80756),\n",
              "  ('Ice',\n",
              "   \"There is also 'dry ice'; it is frozen carbon dioxide. Dry ice exposed to normal air gives off carbon dioxide gas that is odorless and colorless. The gas is so cold that when it mixes with air it cools the water vapour in the air to fog, which looks like a thick white smoke. It is often used in the theatre to make fake fog or smoke.\",\n",
              "   46.960285)],\n",
              " [('Hiragana',\n",
              "   'Sometimes the whole of a text may be written in hiragana to make it easy. This would be used in books for young children, or for students starting to learn Japanese, or when writing the lyrics for songs underneath the music where it is important to show how the words fit the music. Some rare or strange kanji may also have so-called \"furigana\" characters above it. They are hiragana which show how the kanji is to be pronounced.',\n",
              "   36.786774),\n",
              "  ('Punctuation',\n",
              "   'In the second example, no style guide will help. The writer just has to make sure that the sentence is understood as it is written. Punctuation is there to help the reader make sense of what is written. Often it is best to change the sentence so that the meaning does not rest on a comma.',\n",
              "   36.521477),\n",
              "  ('Preposition',\n",
              "   'Prepositions may sometimes be used to end sentences. For example, \"What did you put that there for?\" (better English is the alternative: \"Why did you put that there?\") Example 2: \"A pen is a device to write with\" (better English is \"A pen is a writing device\"). In general, because they are links, prepositions belong in the middle of sentences, rather than at the end.',\n",
              "   34.64157),\n",
              "  ('Writing',\n",
              "   'Writing differs from speech because \"the readers need not be present at the time\". We can read writing from long ago, and from different parts of the world. Text stores and communicates knowledge. Writing is one of the greatest inventions of the human species. It was invented after people settled in towns, and after agriculture started. Writing dates from about 3,300, which is over 5000 years ago, in the Middle East.',\n",
              "   34.56),\n",
              "  ('Syllable',\n",
              "   'Some languages do not use an alphabet with letters. Instead, each sign may stand for a syllable. For example: Japanese can be written using Kana. A writing system based on syllables is called a syllabary. Since words in languages like English can have many different complex syllables (well over 10,000 can be produced in English), writing such languages using a syllabary would be completely impractical, thus alphabets are much better suited to write languages with complex syllable structures. However, since words in Japanese can be made with just a few simple syllables (around 90), writing such languages are well suited for the type of language.',\n",
              "   33.988705)]]"
            ]
          },
          "metadata": {},
          "execution_count": 347
        }
      ]
    },
    {
      "cell_type": "markdown",
      "source": [
        "## **3.3** Using a Reranking Cross Encoder"
      ],
      "metadata": {
        "id": "QfEg6UR98Q1m"
      }
    },
    {
      "cell_type": "code",
      "source": [
        "from sentence_transformers import CrossEncoder\n",
        "\n",
        "class RerankingDenseRetrievalIndex(DenseRetrievalIndex):\n",
        "  def __init__(self, *args, **kwargs):\n",
        "    self.cross_encoder = CrossEncoder(\"cross-encoder/ms-marco-MiniLM-L-6-v2\")\n",
        "    self.encoder = SentenceTransformer('msmarco-MiniLM-L-6-v3')\n",
        "\n",
        "  def lookup(self, query_strs, topk=5, initial_topk=50):\n",
        "    \"\"\"\n",
        "    retrieve `initial_topk` candidates as in `DenseRetrievalIndex` class, but \n",
        "    then rerank them according to scores of `self.cross_encoder`\n",
        "    \"\"\"\n",
        "    finaltuple = []\n",
        "    for query in query_strs:\n",
        "      reranked=[]\n",
        "      tuples=[]\n",
        "      question_emb = self.encoder.encode(query)\n",
        "      scores,examples = dense_index.ds_with_embeddings.get_nearest_examples('embeddings', question_emb, k=initial_topk)\n",
        "      scores_examples=[]\n",
        "      for i in range(len(scores)):\n",
        "        scores_examples.append((examples['title'][i],examples['passage'][i],scores[i]))\n",
        "\n",
        "      for i in range(initial_topk):\n",
        "        tuples.append((query,scores_examples[i][1]))\n",
        "\n",
        "      scores = self.cross_encoder.predict(tuples)\n",
        "\n",
        "      for i in range(len(scores)):\n",
        "        reranked.append((scores[i],scores_examples[i]))\n",
        "      reranked.sort(reverse=True)\n",
        "      \n",
        "      finaltuple.append([i[1] for i in reranked[:topk]])\n",
        "    return finaltuple"
      ],
      "metadata": {
        "id": "6Iq0qNfklBKQ"
      },
      "execution_count": 358,
      "outputs": []
    },
    {
      "cell_type": "code",
      "source": [
        "## you should not need to recompute the embeddings or index if you implemented the \n",
        "## recommended helper functions\n",
        "ranking_index = RerankingDenseRetrievalIndex.from_file(passages, 'msmarco_sbert.faiss')"
      ],
      "metadata": {
        "id": "K24zinl9nlY8"
      },
      "execution_count": 359,
      "outputs": []
    },
    {
      "cell_type": "code",
      "source": [
        "ranking_index.lookup([\"why is the sky blue?\", \"why do flocks of birds fly in a v formation?\"], topk=5)"
      ],
      "metadata": {
        "id": "sOkVwaiHnrYS",
        "colab": {
          "base_uri": "https://localhost:8080/"
        },
        "outputId": "39718fb5-003b-45af-f12e-98c979d29dbd"
      },
      "execution_count": 357,
      "outputs": [
        {
          "output_type": "execute_result",
          "data": {
            "text/plain": [
              "[[('Sky',\n",
              "   'The sky, which is made up of gas molecules, is blue because of the random scattering of sunlight by the molecules. Rayleigh scattering defines the amount of scattering of light rays. Blue light scatters much more than red, which is why the sky appears blue on a clear day. Depending on the time of day, the sky may appear different colors. At dawn or dusk the sky may appear red, orange, or even green and purple depending on how low the sun is and how close it is to night.',\n",
              "   32.083675),\n",
              "  ('Moon',\n",
              "   'In the Earth, the sky is blue because the blue rays of the sun bounce off the gases in the atmosphere, making it look like blue light is coming from the sky. But on the moon, because there is no atmosphere, the sky looks black, even in the daytime. There is no atmosphere to protect the moon from the rocks that fall from outer space, and these meteorites crash right into the moon and make wide, shallow holes called craters. The moon has thousands of them. Newer craters gradually wear away the older ones.',\n",
              "   36.594257),\n",
              "  ('Sky',\n",
              "   'The sky is the appearance of the atmosphere around the surface of the planet from our point of view. We see many objects that are actually in space such as the Sun, the Moon, and stars because they are in the sky. On a clear day the sky appears blue. At night it appears. The deepness of the blue increases as we look toward the horizon, and up to the point above us.',\n",
              "   38.068275),\n",
              "  ('Cerulean',\n",
              "   'In classical times, this term was used to describe blue pigments, particularly mixtures of copper and cobaltous oxides, called genuine cerulean. These early attempts to create sky blue colours were often less than satisfactory due to greenish hues and lack of permanence. When the artificial pigment cerulean blue was invented people started using this instead.',\n",
              "   49.580208),\n",
              "  ('Ocean',\n",
              "   'Although many people believe that the oceans are blue because the water reflects the blue sky, this is actually not true. Water has a very slight blue color that can only be seen when there is a lot of water. However, the main cause of the blue or blue/green color of the oceans is that water absorbs the red part of the incoming light, and reflects the green and blue part of the light. We then see the reflected light as the color of water.',\n",
              "   52.173756)],\n",
              " [('Collective animal behaviour',\n",
              "   '3. \"Easier movement\": Groups of animals moving together (such as fish or birds) save energy. Many of the larger birds fly in flocks. Flying in flocks helps in reducing the energy needed. Many large birds fly in a V-formation, which helps individuals save 12–20 % of the energy they would need to fly alone. Red Knots \"Calidris canutus\" and Dunlins \"Calidris alpina\" were found in radar studies to fly 5\\xa0km per hour faster in flocks than when they were flying alone.',\n",
              "   44.239742),\n",
              "  ('Bird',\n",
              "   'Flocks of birds can be very highly organised in a way that takes care of all the flock members. Studies of small flocking birds like tree sparrows show that they clearly communicate with each other, as sometimes thousands of birds may fly in close formation and spiral patterns without colliding (or flying into each other).',\n",
              "   41.328617),\n",
              "  ('Bird',\n",
              "   'Birds such as geese that migrate from one country to another fly very long distances. Their wings are big and strong, because the birds are large and they stock up on food for the long flight. Migrating water birds usually form family groups of 12-30 birds. They fly very high, making use of long streams of air that blow from north to south in different seasons. They are very well organised, often flying in a V pattern. The geese at the back do not have to flap so hard; they are pulled on by the wind of the ones at the front. Every so often, they change the leader so that the front bird, who does most work and sets the pace, can have a rest. Geese and swans are the highest-flying birds, reaching 8,000 metres or more when on migration. Geese often \"honk\" loudly while they are flying. It is thought that they do this to support the leader and help the young ones.',\n",
              "   46.22288),\n",
              "  ('Bird',\n",
              "   'If a flock of birds were flying over a field, they would be calling \"Fly! Fly!\" But a hungry bird, seeing something good to eat down below might start calling \"Food! Food!\" If other birds were also hungry, they would make the same call until more birds were calling \"Food! Food!\" than \"Fly! Fly!\". At this point, the mind of the flock would be changed. Some of the birds would start to yell \"Fly downwards! Fly downwards!\" as they sank from the sky, until the whole flock was all noisily calling the same thing.',\n",
              "   49.00301),\n",
              "  ('Bird',\n",
              "   'Two common behaviours in flocking birds are guarding and reconnaissance. When a flock of birds is feeding it is common for one bird to perch on a high place to keep guard over the flock. In the same way, when a flock is asleep, often, one bird will remain awake. It is also common for large flocks to send one or two birds ahead of them when they are flying to a new area. The look-out birds can spy the lie of the land to find food, water and good places to perch.',\n",
              "   42.029556)]]"
            ]
          },
          "metadata": {},
          "execution_count": 357
        }
      ]
    },
    {
      "cell_type": "markdown",
      "source": [
        "#Passage Retrieval for Questions I used in my HW-1 with Reranking"
      ],
      "metadata": {
        "id": "K0RKRebKSm_9"
      }
    },
    {
      "cell_type": "code",
      "source": [
        "query_strs= [\"How does the white ball pass through the chute during a game of paid pool on a scratch, but the other balls won't?\",\n",
        " 'How are military documentaries, which include deployment footage interviews, made?',\n",
        " 'Why is it that getting raw meat in your blood (through a cut on your finger) or mucous membranes (under fingernails) does not cause food poisoning, but eating it can make you violently ill?',\n",
        " 'Why is snow white when water and ice are clear?',\n",
        " 'Why do we use a different letter \"a\" when typing as opposed to when writing?']\n",
        "ranking_index.lookup(query_strs,topk=3)"
      ],
      "metadata": {
        "colab": {
          "base_uri": "https://localhost:8080/"
        },
        "id": "p1OQGF6NkdNa",
        "outputId": "120fde65-0f3f-421b-ae53-5e75d0580eba"
      },
      "execution_count": 360,
      "outputs": [
        {
          "output_type": "execute_result",
          "data": {
            "text/plain": [
              "[[('Chess',\n",
              "   \"During the game the two opponents take turns to move one of their pieces to a different square of the board. One player ('White') has pieces of a light color; the other player ('Black') has pieces of a dark color. There are rules about how pieces move, and about taking the opponent's pieces off the board. The player with white pieces always makes the first move. Because of this, White has a small advantage, and wins more often than Black in tournament games.\",\n",
              "   40.524796),\n",
              "  ('Straight pool',\n",
              "   \"In the first rack in straight pool (when you place all the balls together before the break), the fifteen object balls (the colored balls) are racked in a triangular frame, usually made from aluminum, wood, or plastic. The center of the ball at the top of the rack is placed over the a spot on the table called the foot spot. Traditionally, the 1 ball is placed at the rack's right corner, and the 5 ball is placed at the rack's left corner. Other balls are placed randomly. All the balls must touch their neighbors. However, it is considered a courtesy by some players to place a striped ball at the front of the rack. This is because the break is very important and it is believed that a striped ball is easier to hit very precisely.\",\n",
              "   36.49396),\n",
              "  ('Mesoamerican ball game',\n",
              "   'The players were only allowed to use their heads, elbows, legs, and hips to hit the ball. The ball was not allowed to touch the ground, so the players often dove to avoid losing points. If one of the teams got the ball through the stone hoop, the game was over and that team won. However, this was very hard to do, since the stone hoops could be as high as off the ground. Since getting the ball through the hoop was uncommon, a team could also score points by hitting one of six markers alongside the edges of the court.',\n",
              "   40.554256)],\n",
              " [('Documentary',\n",
              "   'A documentary is a creative work of non-fiction. It documents (creates a record of) a true story. A documentary may be a video or audio recording, such as a movie or radio program.',\n",
              "   58.217598),\n",
              "  ('Academy Award for Best Documentary Feature',\n",
              "   'From 1943 there were two separate documentary categories (features and short films)',\n",
              "   54.62823),\n",
              "  ('Academy Award for Best Documentary Feature',\n",
              "   'In 1942, there was one Documentary category and four winners.',\n",
              "   60.63784)],\n",
              " [('Rahm Emanuel',\n",
              "   \"While a high school student working part-time at an Arby's restaurant, Emanuel severely cut his right middle finger on a meat slicer, which was later infected from swimming in Lake Michigan. His finger was partially amputated due to the severity of the infection.\",\n",
              "   41.391544),\n",
              "  ('Exposure (toxicology)',\n",
              "   'Food poisoning is also caused by ingestion of toxins, like \"E. coli\" bacteria, which can live in foods like meat and poultry.',\n",
              "   42.011566),\n",
              "  ('Pathogen',\n",
              "   'The huge death toll was caused by an extremely high infection rate of up to 50% and the extreme severity of the symptoms. One observer wrote, \"One of the most striking of the complications was hemorrhage from mucous membranes, especially from the nose, stomach, and intestine. Bleeding from the ears and skin also occurred\". The majority of deaths were from bacterial pneumonia, a secondary infection caused by influenza, but the virus also killed people directly, causing massive bleeding and oedema in the lungs.',\n",
              "   44.18849)],\n",
              " [('Frost',\n",
              "   'Frost is ice that is formed when water vapor freezes onto a surface. It has a white, powdery appearance. It forms on cold surfaces when the temperature of the air is very low. It can destroy crops.',\n",
              "   51.078087),\n",
              "  ('Snow',\n",
              "   'Snow is a form of ice. Snow forms when water in the atmosphere becomes frozen. Snow comes in all different shapes and sizes.',\n",
              "   57.94055),\n",
              "  ('Snow',\n",
              "   'Snow can also be dangerous, as it can lower visibility and make driving very difficult. When it snows, the snow will melt a little during the daytime and freeze again at night. This makes ice which can make driving conditions very treacherous. Snow plows are used to remove snow from roads to make driving easier and safer. Also, sand or salt may be added to the road to help tires grip the road. When salt is mixed with snow, the snow will melt more easily. This is because salt water has a lower melting point than fresh water (water without salt).',\n",
              "   52.06315)],\n",
              " [('Letter',\n",
              "   'In English and many other languages, the smallest part of writing is the letter. We use letters to make words. In some languages, for example Spanish, there is usually one letter for one sound (or better: for one \"phoneme\", the smallest part of speech). This is easy to read. In other languages, for example English, we can use several different letters for the same sound in different words, or one letter for different sounds in different words. This is difficult for learners to read. Here are some examples:',\n",
              "   41.03009),\n",
              "  ('Letter',\n",
              "   'English, French, Spanish and many other languages use the Latin alphabet for writing. In this alphabet there are often two different letters for a sound. For example, \"A\" and \"a\". In other alphabets, for example the Cyrillic alphabet, there is only one letter for a sound (except for handwritten Cyrillic, in which the shape of the capital letter is much different - and usually unrecognisable - from its lowercase counterpart). The letters are: ABCDEFGHIJKLMNOPQRSTUVWXYZ',\n",
              "   41.393707),\n",
              "  ('Alphabet',\n",
              "   'Other writing systems do not use letters, but they do (at least in part) represent sounds. For example, many systems represent syllables. In the past such writing systems were used by many cultures, but today they are almost only used by languages people speak in Asia. A \"syllabary\" is a system of writing that is similar to an alphabet. A syllabary uses one symbol to indicate each syllable of a word, instead of one symbol for each letter of the word. For example, a syllabary would use one symbol to mean the syllable \"ga\", instead of two letters of the alphabet \"g\" and \"a\".',\n",
              "   36.889523)]]"
            ]
          },
          "metadata": {},
          "execution_count": 360
        }
      ]
    },
    {
      "cell_type": "markdown",
      "source": [
        "# Problem 4"
      ],
      "metadata": {
        "id": "ErLEBESYhpHR"
      }
    },
    {
      "cell_type": "code",
      "source": [
        "from transformers import AutoTokenizer, AutoModelForSeq2SeqLM\n",
        "\n",
        "qar_tokenizer = AutoTokenizer.from_pretrained('yjernite/bart_eli5')\n",
        "qar_model = AutoModelForSeq2SeqLM.from_pretrained('yjernite/bart_eli5')\n",
        "\n",
        "from huggingface_hub import notebook_login\n",
        "notebook_login()"
      ],
      "metadata": {
        "id": "yrqchnbUxHhJ"
      },
      "execution_count": 290,
      "outputs": []
    },
    {
      "cell_type": "code",
      "source": [
        "!pip install rouge\n",
        "!pip install transformers"
      ],
      "metadata": {
        "colab": {
          "base_uri": "https://localhost:8080/"
        },
        "id": "KMkO4xT7urNn",
        "outputId": "23b06c57-2ad6-40df-98a3-36d8667dc927"
      },
      "execution_count": 324,
      "outputs": [
        {
          "output_type": "stream",
          "name": "stdout",
          "text": [
            "Looking in indexes: https://pypi.org/simple, https://us-python.pkg.dev/colab-wheels/public/simple/\n",
            "Collecting rouge\n",
            "  Downloading rouge-1.0.1-py3-none-any.whl (13 kB)\n",
            "Requirement already satisfied: six in /usr/local/lib/python3.7/dist-packages (from rouge) (1.16.0)\n",
            "Installing collected packages: rouge\n",
            "Successfully installed rouge-1.0.1\n"
          ]
        }
      ]
    },
    {
      "cell_type": "code",
      "source": [
        "# TODO Write an eval loop that retrieves top-1 documents for each ELI5 dev question\n",
        "# then feeds them (concatenated to the question) to the qar_model wrapped in a `pipeline`. \n",
        "from transformers import pipeline\n",
        "from datasets import load_dataset, load_metric\n",
        "text2text = pipeline(\"text2text-generation\", model = qar_model,tokenizer = qar_tokenizer )"
      ],
      "metadata": {
        "id": "-EDUggbPx2pe"
      },
      "execution_count": 294,
      "outputs": []
    },
    {
      "cell_type": "code",
      "source": [
        "raw_datasets = load_dataset(\"eli5\", split=\"test_eli5[10:20]\")"
      ],
      "metadata": {
        "colab": {
          "base_uri": "https://localhost:8080/"
        },
        "id": "IAvnQsA2AVUl",
        "outputId": "30515b1d-cd1c-4abd-abcc-de9f88990573"
      },
      "execution_count": 299,
      "outputs": [
        {
          "output_type": "stream",
          "name": "stderr",
          "text": [
            "WARNING:datasets.builder:Found cached dataset eli5 (/root/.cache/huggingface/datasets/eli5/LFQA_reddit/1.0.0/17574e5502a10f41bbd17beba83e22475b499fa62caa1384a3d093fc856fe6fa)\n"
          ]
        }
      ]
    },
    {
      "cell_type": "code",
      "source": [
        "from rouge import Rouge\n",
        "\n",
        "#Retrieve documents for evaluation\n",
        "retrieval = ranking_index.lookup(raw_datasets[\"title\"],topk=1)\n",
        "\n",
        "model_output = []\n",
        "inputs=[]\n",
        "for i in range(10):\n",
        "  #Concatenate the question and passage for input. Call the passage as 'Context'\n",
        "  inputs.append(\"Question: \" + raw_datasets[\"title\"][i] + \"\\nContext: \" + retrieval[i][1][1][1])\n",
        "\n",
        "#Generate answers\n",
        "model_output = text2text(inputs, max_length = 100)\n",
        "\n",
        "#Evaluate using mean values of rouge1, rouge2, rougel\n",
        "rouge = Rouge()\n",
        "rouge.get_scores([raw_datasets[\"answers\"][i]['text'][0] for i in range(10)],[i['generated_text'] for i in model_output], avg=True)\n"
      ],
      "metadata": {
        "colab": {
          "base_uri": "https://localhost:8080/"
        },
        "id": "QeTc8HqjyRjA",
        "outputId": "d58197f5-0e62-487d-f95e-c5a66952d0e4"
      },
      "execution_count": 328,
      "outputs": [
        {
          "output_type": "execute_result",
          "data": {
            "text/plain": [
              "{'rouge-1': {'r': 0.36863615143026907,\n",
              "  'p': 0.07473015816677091,\n",
              "  'f': 0.11503037809824619},\n",
              " 'rouge-2': {'r': 0.0634536541889483,\n",
              "  'p': 0.009620773664406248,\n",
              "  'f': 0.015104426167607293},\n",
              " 'rouge-l': {'r': 0.34879488158899924,\n",
              "  'p': 0.07134126927788201,\n",
              "  'f': 0.1092993839461994}}"
            ]
          },
          "metadata": {},
          "execution_count": 328
        }
      ]
    },
    {
      "cell_type": "markdown",
      "source": [
        "# Problem 5"
      ],
      "metadata": {
        "id": "Sge2erE-z5Ah"
      }
    },
    {
      "cell_type": "code",
      "source": [
        "## TODO feed your 5 questions from the end of HW1 through the pipeline and perform\n",
        "## qualitative analysis\n",
        "\n",
        "query_strs= [\"How does the white ball pass through the chute during a game of paid pool on a scratch, but the other balls won't?\",\n",
        " 'How are military documentaries, which include deployment footage interviews, made?',\n",
        " 'Why is it that getting raw meat in your blood (through a cut on your finger) or mucous membranes (under fingernails) does not cause food poisoning, but eating it can make you violently ill?',\n",
        " 'Why is snow white when water and ice are clear?',\n",
        " 'Why do we use a different letter \"a\" when typing as opposed to when writing?']\n",
        "\n",
        "#BM25 Retreival\n",
        "BM25retrieval = bm25_index.lookup(query_strs,1)\n",
        "\n",
        "#Dense Retrieval\n",
        "denseretrieval = dense_index.lookup(query_strs, topk=1)\n",
        "\n",
        "#Reranking Retreieval\n",
        "rerankingretrieval = ranking_index.lookup(query_strs,topk=1)\n",
        "\n",
        "inputs1=[]\n",
        "for i in range(5):\n",
        "  inputs1.append(\"Question: \" + query_strs[i] + \"\\nContext: \" + \" \".join(BM25retrieval[i][0][1]))\n",
        "BM25_model_output = text2text(inputs1, max_length = 100)\n",
        "\n",
        "inputs2=[]\n",
        "for i in range(5):\n",
        "  inputs2.append(\"Question: \" + query_strs[i] + \"\\nContext: \" + denseretrieval[i][0][1])\n",
        "dense_model_output = text2text(inputs2, max_length = 100)\n",
        "\n",
        "inputs3=[]\n",
        "for i in range(5):\n",
        "  inputs3.append(\"Question: \" + query_strs[i] + \"\\nContext: \" + rerankingretrieval[i][0][1])\n",
        "reranking_model_output = text2text(inputs3, max_length = 100)\n"
      ],
      "metadata": {
        "id": "NALqt9aJ8DgX"
      },
      "execution_count": 392,
      "outputs": []
    },
    {
      "cell_type": "code",
      "source": [
        "for i in range(len(inputs1)):\n",
        "  print(\"input: \",query_strs[i])\n",
        "  print()\n",
        "  print(\"BM25 Context: \", \" \".join(BM25retrieval[i][0][1]))\n",
        "  print(\"Answer: \",BM25_model_output[i][\"generated_text\"])\n",
        "  print()\n",
        "  print(\"Dense Context: \",denseretrieval[i][0][1])\n",
        "  print(\"Answer: \",dense_model_output[i][\"generated_text\"])\n",
        "  print()\n",
        "  print(\"Reranking Context: \", rerankingretrieval[i][0][1])\n",
        "  print(\"Answer: \",reranking_model_output[i][\"generated_text\"])\n",
        "\n",
        "  print(\"\\n\")"
      ],
      "metadata": {
        "colab": {
          "base_uri": "https://localhost:8080/"
        },
        "id": "73StyI_3ZWRs",
        "outputId": "65cc9e1a-993b-46a4-91c4-422596057b3a"
      },
      "execution_count": 395,
      "outputs": [
        {
          "output_type": "stream",
          "name": "stdout",
          "text": [
            "input:  How does the white ball pass through the chute during a game of paid pool on a scratch, but the other balls won't?\n",
            "\n",
            "BM25 Context:  In straight pool, the person shooting may attempt to pocket any ball on the table. The aim of the game is to reach a set number of points. The amount of points needed to win is agreed to before the game. One point is scored for each ball pocketed legally (that is, without a foul). A typical game might require a player to score 100 points. This means that at least 100 balls must be pocketed to win. In professional competition, straight pool is usually played to 150 points. Straight pool is a call-pocket game. This means that the player must call what pocket they mean to sink the ball into on every shot. It does not matter how balls reach the pocket. As long as no foul is involved, and the balls goes into the pocket that is called, a point is scored.\n",
            "Answer:   The white ball is a \"call-pocket\" ball. It is a ball that is not supposed to be in the chute. It is a ball that is supposed to be in the player's pocket. The player is supposed to call the ball into the player's pocket. If the player does not call the ball into the player's pocket, the player wins.\n",
            "\n",
            "Dense Context:  To reach the point in time when an intragame rack is needed, the balls are played until only the cue ball and only one object ball remain on the table's surface. At that time, if neither the cue ball or the fifteenth object ball remains in the rack area (or is interfering with racking in the rack area) the fourteen pocketed object balls are racked with no ball placed at the top of the rack, and the rack is placed so that \"if the top ball were in the rack\", its center would be placed over the table's foot spot. Play then continues with the cue ball shot from where it rested, and the fifteenth, non-racked object ball from where it rested prior to racking.\n",
            "Answer:   The white ball is a \"hot\" ball, meaning it's been hit by a player's cue ball. The white ball is a \"hot\" ball, meaning it's been hit by a player's cue ball. The white ball is a hot ball, meaning it's been hit by a player's cue ball. The white ball is a hot ball, meaning it's been hit by a player's cue ball. The white ball is a hot ball, meaning it's been hit by\n",
            "\n",
            "Reranking Context:  During the game the two opponents take turns to move one of their pieces to a different square of the board. One player ('White') has pieces of a light color; the other player ('Black') has pieces of a dark color. There are rules about how pieces move, and about taking the opponent's pieces off the board. The player with white pieces always makes the first move. Because of this, White has a small advantage, and wins more often than Black in tournament games.\n",
            "Answer:   The white ball is a ball that has been hit by a player. The white ball is a ball that has been hit by a player. The white ball is a ball that has been hit by a player. The white ball is a ball that has been hit by a player. The white ball is a ball that has been hit by a player. The white ball is a ball that has been hit by a player. The white ball is a ball that has been hit by a player.\n",
            "\n",
            "\n",
            "input:  How are military documentaries, which include deployment footage interviews, made?\n",
            "\n",
            "BM25 Context:  DVD releases have been somewhat basic: only the U.S. \"Every Stoopid Episode\" edition featured documentaries, and no extra footage was included. Musical references proved difficult to clear, so \"The Sound of Silence\" and \"Subterranean Homesick Blues\" were cut from the U.S. editions.\n",
            "Answer:   They are not made by the military, they are made by the people who make the military documentaries.\n",
            "\n",
            "Dense Context:  Two of the most significant documentaries, both made by NHNZ, are \"Kakapo - Night Parrot\" (1982) and \"To Save the Kakapo\" (1997). The BBC's Natural History Unit also featured the Kakapo, including a sequence with Sir David Attenborough in \"The Life of Birds\". It was also one of the endangered animals that Douglas Adams and Mark Carwardine set out to find for the radio series and book \"Last Chance to See\". An updated version of the series has been produced for BBC TV, in which Stephen Fry and Carwardine revisit the animals to see how they are getting on almost 20 years later, and in January 2009, they spent time filming the Kakapo on Codfish Island.\n",
            "Answer:   They are not. They are made by a company of people who are not military.\n",
            "\n",
            "Reranking Context:  A documentary is a creative work of non-fiction. It documents (creates a record of) a true story. A documentary may be a video or audio recording, such as a movie or radio program.\n",
            "Answer:   They are not made by the same people who make the TV show. They are made by a team of people who specialize in making documentaries.\n",
            "\n",
            "\n",
            "input:  Why is it that getting raw meat in your blood (through a cut on your finger) or mucous membranes (under fingernails) does not cause food poisoning, but eating it can make you violently ill?\n",
            "\n",
            "BM25 Context:  It was believed that if you were entertained with music while you are eating it would help you digest your food and help keep your heart healthy. And people believed that you will not get fat even if you scoffed down a load of food. Also eating food while having people dancing for you was believed to have made you fit.\n",
            "Answer:   It's not that getting raw meat in your blood is bad, it's that getting raw meat in your blood through a cut on your finger is bad.\n",
            "\n",
            "Dense Context:  Actually, no one should be eating feces even if they have a strong immune system. The bad breath that comes from eating feces isn't the only taboo, simply putting feces in your mouth is also a taboo.\n",
            "Answer:   It's not that eating it can make you ill, it's that you should be eating it.\n",
            "\n",
            "Reranking Context:  While a high school student working part-time at an Arby's restaurant, Emanuel severely cut his right middle finger on a meat slicer, which was later infected from swimming in Lake Michigan. His finger was partially amputated due to the severity of the infection.\n",
            "Answer:   It's not that getting raw meat in your blood is bad, it's that getting it in your mucous membranes is bad.\n",
            "\n",
            "\n",
            "input:  Why is snow white when water and ice are clear?\n",
            "\n",
            "BM25 Context:  Warm temperature caused a glacier to melt. As the glacier melts, areas that were at one time covered by snow and ice are now water or land. Because snow and ice reflect heat but water and land absorb heat, this causes the glacier to melt faster as more snow and ice is melted. This type of positive feedback is an example of thermal runaway.\n",
            "Answer:   Snow is white because it is made of tiny particles of white light. Water and ice are clear because they are water.\n",
            "\n",
            "Dense Context:  There is also 'dry ice'; it is frozen carbon dioxide. Dry ice exposed to normal air gives off carbon dioxide gas that is odorless and colorless. The gas is so cold that when it mixes with air it cools the water vapour in the air to fog, which looks like a thick white smoke. It is often used in the theatre to make fake fog or smoke.\n",
            "Answer:   Snow is white because it is white. Water and ice are clear.\n",
            "\n",
            "Reranking Context:  Frost is ice that is formed when water vapor freezes onto a surface. It has a white, powdery appearance. It forms on cold surfaces when the temperature of the air is very low. It can destroy crops.\n",
            "Answer:   Snow is white because it is white. It is white because it is white.\n",
            "\n",
            "\n",
            "input:  Why do we use a different letter \"a\" when typing as opposed to when writing?\n",
            "\n",
            "BM25 Context:  when \"n\" is composite is known as a \"Fermat liar\". If we do pick an \"a\" such that\n",
            "Answer:   I'm not sure what you mean by \"why do we use a different letter \"a\" when typing as opposed to when writing?\"\n",
            "\n",
            "Dense Context:  Some languages do not use an alphabet with letters. Instead, each sign may stand for a syllable. For example: Japanese can be written using Kana. A writing system based on syllables is called a syllabary. Since words in languages like English can have many different complex syllables (well over 10,000 can be produced in English), writing such languages using a syllabary would be completely impractical, thus alphabets are much better suited to write languages with complex syllable structures. However, since words in Japanese can be made with just a few simple syllables (around 90), writing such languages are well suited for the type of language.\n",
            "Answer:   I'm not sure if this is the case, but I've always typed with a different letter \"a\" when writing.\n",
            "\n",
            "Reranking Context:  In English and many other languages, the smallest part of writing is the letter. We use letters to make words. In some languages, for example Spanish, there is usually one letter for one sound (or better: for one \"phoneme\", the smallest part of speech). This is easy to read. In other languages, for example English, we can use several different letters for the same sound in different words, or one letter for different sounds in different words. This is difficult for learners to read. Here are some examples:\n",
            "Answer:   I'm not sure I understand your question. Do you mean why do we use a different letter \"a\" when typing as opposed to when writing?\n",
            "\n",
            "\n"
          ]
        }
      ]
    },
    {
      "cell_type": "markdown",
      "source": [
        "##Part of Q3.3: How well do the methods do with a question that you came up with?"
      ],
      "metadata": {
        "id": "gJcXaX85p1Q6"
      }
    },
    {
      "cell_type": "code",
      "source": [
        "#Q3.3 How well do the methods do with a question that you came up with?\n",
        "query_strs= [\"Which university did Albert Einstein teach in?\"]\n",
        "\n",
        "#BM25 Retreival\n",
        "BM25retrieval = bm25_index.lookup(query_strs,5)\n",
        "\n",
        "#Dense Retrieval\n",
        "denseretrieval = dense_index.lookup(query_strs, topk=1)\n",
        "\n",
        "#Reranking Retreieval\n",
        "rerankingretrieval = ranking_index.lookup(query_strs,topk=5)\n",
        "\n",
        "for i in range(5):\n",
        "  print(\"BM25 Context: \", \" \".join(BM25retrieval[0][i][1]))\n",
        "  print()\n",
        "print()\n",
        "for i in range(5):\n",
        "  print(\"Dense Context: \",denseretrieval[0][i][1])\n",
        "  print()\n",
        "print()\n",
        "for i in range(5):\n",
        "  print(\"Reranking Context: \", rerankingretrieval[0][i][1])\n",
        "  print()\n",
        "print()\n",
        "\n"
      ],
      "metadata": {
        "colab": {
          "base_uri": "https://localhost:8080/"
        },
        "id": "S_NwSq9BfWBW",
        "outputId": "92389af4-c1c0-42dd-87a3-3c6600f6653d"
      },
      "execution_count": 403,
      "outputs": [
        {
          "output_type": "stream",
          "name": "stdout",
          "text": [
            "BM25 Context:  In 1916 Albert Einstein wrote an explanation of gravity called general relativity.\n",
            "\n",
            "BM25 Context:  Albert Einstein and Norbert Wiener also studied Brownian Movement, with greater mathematical precision.\n",
            "\n",
            "BM25 Context:  The concept of zero-point energy was developed in Germany by Albert Einstein and Otto Stern in 1913.\n",
            "\n",
            "BM25 Context:  Albert Einstein kept a photograph of Faraday on his study wall alongside pictures of Isaac Newton and James Clerk Maxwell.\n",
            "\n",
            "BM25 Context:  In 2017, he won the Albert Einstein World Award of Science. In 2018, Yaghi won the Wolf Prize in Chemistry.\n",
            "\n",
            "\n",
            "Dense Context:  Einstein was born in Ulm, Württemberg, Germany, on 14 March 1879. His family was Jewish, but was not very . However, later in life Einstein became very interested in his Judaism. Einstein did not begin speaking until he was 2 years old. According to his younger sister, Maja, \"He had such difficulty with language that those around him feared he would never learn\". When Einstein was around 4 years old, his father gave him a magnetic compass. He tried hard to understand how the needle could seem to move itself so that it always pointed north. The needle was in a closed case, so clearly nothing like wind could be pushing the needle around, and yet it moved. So in this way Einstein became interested in studying science and mathematics. His compass gave him ideas to the world of science.\n",
            "\n",
            "Dense Context:  Albert Einstein visited Palestine in 1923 for 12 days. He gave the first lecture at the Mount Scopus campus of the Hebrew University of Jerusalem.\n",
            "\n",
            "Dense Context:  When he became older, he went to a school in Switzerland. After he graduated, he got a job in the patent office there. While he was working there, he wrote the papers that first made him famous as a great scientist.\n",
            "\n",
            "Dense Context:  Einstein lived in Princeton and was one of the first members invited to the Institute for Advanced Study, where he worked for the remainder of his life. He is widely considered one of the greatest scientists of all time. His contributions helped lay the foundations for all modern branches of physics, including quantum mechanics and relativity.\n",
            "\n",
            "Dense Context:  He taught physics at the Institute for Advanced Study at Princeton, New Jersey until his death on 18 April 1955 of a aortic aneurysm. He was still writing about quantum physics hours before he died.\n",
            "\n",
            "\n",
            "Reranking Context:  Albert Einstein visited Palestine in 1923 for 12 days. He gave the first lecture at the Mount Scopus campus of the Hebrew University of Jerusalem.\n",
            "\n",
            "Reranking Context:  Pestalozzi's method was used by the cantonal school in Aarau that Albert Einstein attended. It has been credited with helping Einstein's process of visualizing problems and his use of thought experiments. Einstein said of his education at Aarau: \"it made me clearly realize how much superior an education based on free action and personal responsibility is to one relying on outward authority.\"\n",
            "\n",
            "Reranking Context:  Einstein was in favor of the Hebrew University, as well as Zionism and education in general. This is the reason the square is named for him. Also, a statue of Einstein is nearby in the gardens of the Israel Academy of Sciences and Humanities.\n",
            "\n",
            "Reranking Context:  He taught physics at the Institute for Advanced Study at Princeton, New Jersey until his death on 18 April 1955 of a aortic aneurysm. He was still writing about quantum physics hours before he died.\n",
            "\n",
            "Reranking Context:  Einstein lived in Princeton and was one of the first members invited to the Institute for Advanced Study, where he worked for the remainder of his life. He is widely considered one of the greatest scientists of all time. His contributions helped lay the foundations for all modern branches of physics, including quantum mechanics and relativity.\n",
            "\n",
            "\n"
          ]
        }
      ]
    },
    {
      "cell_type": "code",
      "source": [],
      "metadata": {
        "id": "b_QzPKtWshTB"
      },
      "execution_count": null,
      "outputs": []
    }
  ],
  "metadata": {
    "colab": {
      "provenance": [],
      "collapsed_sections": [
        "0iBwNBhUeBZY",
        "4MG__xXXNw2w",
        "B7H6BpZ2N9Bl",
        "Hb4iyN54Mk0s"
      ],
      "machine_shape": "hm"
    },
    "kernelspec": {
      "display_name": "Python 3",
      "name": "python3"
    },
    "language_info": {
      "name": "python"
    },
    "accelerator": "GPU",
    "gpuClass": "standard",
    "widgets": {
      "application/vnd.jupyter.widget-state+json": {
        "2747ea9680754a84a50dc824a7e547cd": {
          "model_module": "@jupyter-widgets/controls",
          "model_name": "HBoxModel",
          "model_module_version": "1.5.0",
          "state": {
            "_dom_classes": [],
            "_model_module": "@jupyter-widgets/controls",
            "_model_module_version": "1.5.0",
            "_model_name": "HBoxModel",
            "_view_count": null,
            "_view_module": "@jupyter-widgets/controls",
            "_view_module_version": "1.5.0",
            "_view_name": "HBoxView",
            "box_style": "",
            "children": [
              "IPY_MODEL_b633a6be501142b6b2a8b926fef4a38d",
              "IPY_MODEL_b1295b583eb642f88b42a187cb777668",
              "IPY_MODEL_1a381e3cef604c5b91e5dd75a2a11670"
            ],
            "layout": "IPY_MODEL_3207a3c80ce24eee9c76154be0fa11e5"
          }
        },
        "b633a6be501142b6b2a8b926fef4a38d": {
          "model_module": "@jupyter-widgets/controls",
          "model_name": "HTMLModel",
          "model_module_version": "1.5.0",
          "state": {
            "_dom_classes": [],
            "_model_module": "@jupyter-widgets/controls",
            "_model_module_version": "1.5.0",
            "_model_name": "HTMLModel",
            "_view_count": null,
            "_view_module": "@jupyter-widgets/controls",
            "_view_module_version": "1.5.0",
            "_view_name": "HTMLView",
            "description": "",
            "description_tooltip": null,
            "layout": "IPY_MODEL_1dc5f128fe824cc690194360a8785eb0",
            "placeholder": "​",
            "style": "IPY_MODEL_ccf965497e2042ddab00254df3859e20",
            "value": "100%"
          }
        },
        "b1295b583eb642f88b42a187cb777668": {
          "model_module": "@jupyter-widgets/controls",
          "model_name": "FloatProgressModel",
          "model_module_version": "1.5.0",
          "state": {
            "_dom_classes": [],
            "_model_module": "@jupyter-widgets/controls",
            "_model_module_version": "1.5.0",
            "_model_name": "FloatProgressModel",
            "_view_count": null,
            "_view_module": "@jupyter-widgets/controls",
            "_view_module_version": "1.5.0",
            "_view_name": "ProgressView",
            "bar_style": "success",
            "description": "",
            "description_tooltip": null,
            "layout": "IPY_MODEL_e05667fed83949b49b7e0d0439c638fa",
            "max": 509663,
            "min": 0,
            "orientation": "horizontal",
            "style": "IPY_MODEL_96ff6fcd5708404ab4ec31fca6a5becd",
            "value": 509663
          }
        },
        "1a381e3cef604c5b91e5dd75a2a11670": {
          "model_module": "@jupyter-widgets/controls",
          "model_name": "HTMLModel",
          "model_module_version": "1.5.0",
          "state": {
            "_dom_classes": [],
            "_model_module": "@jupyter-widgets/controls",
            "_model_module_version": "1.5.0",
            "_model_name": "HTMLModel",
            "_view_count": null,
            "_view_module": "@jupyter-widgets/controls",
            "_view_module_version": "1.5.0",
            "_view_name": "HTMLView",
            "description": "",
            "description_tooltip": null,
            "layout": "IPY_MODEL_a4099ca7b8f24bd8bf92dffb50dfea13",
            "placeholder": "​",
            "style": "IPY_MODEL_78549933919e4810943963f88d6d336d",
            "value": " 509663/509663 [1:02:53&lt;00:00, 139.45ex/s]"
          }
        },
        "3207a3c80ce24eee9c76154be0fa11e5": {
          "model_module": "@jupyter-widgets/base",
          "model_name": "LayoutModel",
          "model_module_version": "1.2.0",
          "state": {
            "_model_module": "@jupyter-widgets/base",
            "_model_module_version": "1.2.0",
            "_model_name": "LayoutModel",
            "_view_count": null,
            "_view_module": "@jupyter-widgets/base",
            "_view_module_version": "1.2.0",
            "_view_name": "LayoutView",
            "align_content": null,
            "align_items": null,
            "align_self": null,
            "border": null,
            "bottom": null,
            "display": null,
            "flex": null,
            "flex_flow": null,
            "grid_area": null,
            "grid_auto_columns": null,
            "grid_auto_flow": null,
            "grid_auto_rows": null,
            "grid_column": null,
            "grid_gap": null,
            "grid_row": null,
            "grid_template_areas": null,
            "grid_template_columns": null,
            "grid_template_rows": null,
            "height": null,
            "justify_content": null,
            "justify_items": null,
            "left": null,
            "margin": null,
            "max_height": null,
            "max_width": null,
            "min_height": null,
            "min_width": null,
            "object_fit": null,
            "object_position": null,
            "order": null,
            "overflow": null,
            "overflow_x": null,
            "overflow_y": null,
            "padding": null,
            "right": null,
            "top": null,
            "visibility": null,
            "width": null
          }
        },
        "1dc5f128fe824cc690194360a8785eb0": {
          "model_module": "@jupyter-widgets/base",
          "model_name": "LayoutModel",
          "model_module_version": "1.2.0",
          "state": {
            "_model_module": "@jupyter-widgets/base",
            "_model_module_version": "1.2.0",
            "_model_name": "LayoutModel",
            "_view_count": null,
            "_view_module": "@jupyter-widgets/base",
            "_view_module_version": "1.2.0",
            "_view_name": "LayoutView",
            "align_content": null,
            "align_items": null,
            "align_self": null,
            "border": null,
            "bottom": null,
            "display": null,
            "flex": null,
            "flex_flow": null,
            "grid_area": null,
            "grid_auto_columns": null,
            "grid_auto_flow": null,
            "grid_auto_rows": null,
            "grid_column": null,
            "grid_gap": null,
            "grid_row": null,
            "grid_template_areas": null,
            "grid_template_columns": null,
            "grid_template_rows": null,
            "height": null,
            "justify_content": null,
            "justify_items": null,
            "left": null,
            "margin": null,
            "max_height": null,
            "max_width": null,
            "min_height": null,
            "min_width": null,
            "object_fit": null,
            "object_position": null,
            "order": null,
            "overflow": null,
            "overflow_x": null,
            "overflow_y": null,
            "padding": null,
            "right": null,
            "top": null,
            "visibility": null,
            "width": null
          }
        },
        "ccf965497e2042ddab00254df3859e20": {
          "model_module": "@jupyter-widgets/controls",
          "model_name": "DescriptionStyleModel",
          "model_module_version": "1.5.0",
          "state": {
            "_model_module": "@jupyter-widgets/controls",
            "_model_module_version": "1.5.0",
            "_model_name": "DescriptionStyleModel",
            "_view_count": null,
            "_view_module": "@jupyter-widgets/base",
            "_view_module_version": "1.2.0",
            "_view_name": "StyleView",
            "description_width": ""
          }
        },
        "e05667fed83949b49b7e0d0439c638fa": {
          "model_module": "@jupyter-widgets/base",
          "model_name": "LayoutModel",
          "model_module_version": "1.2.0",
          "state": {
            "_model_module": "@jupyter-widgets/base",
            "_model_module_version": "1.2.0",
            "_model_name": "LayoutModel",
            "_view_count": null,
            "_view_module": "@jupyter-widgets/base",
            "_view_module_version": "1.2.0",
            "_view_name": "LayoutView",
            "align_content": null,
            "align_items": null,
            "align_self": null,
            "border": null,
            "bottom": null,
            "display": null,
            "flex": null,
            "flex_flow": null,
            "grid_area": null,
            "grid_auto_columns": null,
            "grid_auto_flow": null,
            "grid_auto_rows": null,
            "grid_column": null,
            "grid_gap": null,
            "grid_row": null,
            "grid_template_areas": null,
            "grid_template_columns": null,
            "grid_template_rows": null,
            "height": null,
            "justify_content": null,
            "justify_items": null,
            "left": null,
            "margin": null,
            "max_height": null,
            "max_width": null,
            "min_height": null,
            "min_width": null,
            "object_fit": null,
            "object_position": null,
            "order": null,
            "overflow": null,
            "overflow_x": null,
            "overflow_y": null,
            "padding": null,
            "right": null,
            "top": null,
            "visibility": null,
            "width": null
          }
        },
        "96ff6fcd5708404ab4ec31fca6a5becd": {
          "model_module": "@jupyter-widgets/controls",
          "model_name": "ProgressStyleModel",
          "model_module_version": "1.5.0",
          "state": {
            "_model_module": "@jupyter-widgets/controls",
            "_model_module_version": "1.5.0",
            "_model_name": "ProgressStyleModel",
            "_view_count": null,
            "_view_module": "@jupyter-widgets/base",
            "_view_module_version": "1.2.0",
            "_view_name": "StyleView",
            "bar_color": null,
            "description_width": ""
          }
        },
        "a4099ca7b8f24bd8bf92dffb50dfea13": {
          "model_module": "@jupyter-widgets/base",
          "model_name": "LayoutModel",
          "model_module_version": "1.2.0",
          "state": {
            "_model_module": "@jupyter-widgets/base",
            "_model_module_version": "1.2.0",
            "_model_name": "LayoutModel",
            "_view_count": null,
            "_view_module": "@jupyter-widgets/base",
            "_view_module_version": "1.2.0",
            "_view_name": "LayoutView",
            "align_content": null,
            "align_items": null,
            "align_self": null,
            "border": null,
            "bottom": null,
            "display": null,
            "flex": null,
            "flex_flow": null,
            "grid_area": null,
            "grid_auto_columns": null,
            "grid_auto_flow": null,
            "grid_auto_rows": null,
            "grid_column": null,
            "grid_gap": null,
            "grid_row": null,
            "grid_template_areas": null,
            "grid_template_columns": null,
            "grid_template_rows": null,
            "height": null,
            "justify_content": null,
            "justify_items": null,
            "left": null,
            "margin": null,
            "max_height": null,
            "max_width": null,
            "min_height": null,
            "min_width": null,
            "object_fit": null,
            "object_position": null,
            "order": null,
            "overflow": null,
            "overflow_x": null,
            "overflow_y": null,
            "padding": null,
            "right": null,
            "top": null,
            "visibility": null,
            "width": null
          }
        },
        "78549933919e4810943963f88d6d336d": {
          "model_module": "@jupyter-widgets/controls",
          "model_name": "DescriptionStyleModel",
          "model_module_version": "1.5.0",
          "state": {
            "_model_module": "@jupyter-widgets/controls",
            "_model_module_version": "1.5.0",
            "_model_name": "DescriptionStyleModel",
            "_view_count": null,
            "_view_module": "@jupyter-widgets/base",
            "_view_module_version": "1.2.0",
            "_view_name": "StyleView",
            "description_width": ""
          }
        }
      }
    }
  },
  "nbformat": 4,
  "nbformat_minor": 0
}